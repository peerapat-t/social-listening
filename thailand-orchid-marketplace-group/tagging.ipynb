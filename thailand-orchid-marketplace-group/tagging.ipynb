{
 "cells": [
  {
   "cell_type": "code",
   "execution_count": 1,
   "id": "dee2a84a",
   "metadata": {},
   "outputs": [],
   "source": [
    "# !pip install duckdb\n",
    "import pandas as pd\n",
    "import numpy as np\n",
    "import duckdb"
   ]
  },
  {
   "cell_type": "code",
   "execution_count": 2,
   "id": "77aeac5a",
   "metadata": {},
   "outputs": [],
   "source": [
    "# !pip install langchain_openai\n",
    "# !pip install openai\n",
    "from openai import AzureOpenAI\n",
    "from langchain_openai import AzureChatOpenAI\n",
    "from langchain.tools.render import render_text_description_and_args\n",
    "from langchain_core.tools import tool\n",
    "from langchain_core.prompts import ChatPromptTemplate"
   ]
  },
  {
   "cell_type": "code",
   "execution_count": 3,
   "id": "839c5f0a",
   "metadata": {},
   "outputs": [],
   "source": [
    "import json\n",
    "import re\n",
    "from tqdm import tqdm"
   ]
  },
  {
   "cell_type": "markdown",
   "id": "58e1eedf",
   "metadata": {},
   "source": [
    "# Import data/ clean data"
   ]
  },
  {
   "cell_type": "code",
   "execution_count": 4,
   "id": "f9d55bd8",
   "metadata": {},
   "outputs": [
    {
     "name": "stderr",
     "output_type": "stream",
     "text": [
      "C:\\Users\\user\\AppData\\Local\\Temp\\ipykernel_27868\\550170161.py:1: DtypeWarning: Columns (13,14,42,43,45,48,50,51,52,53,54,59,61,62,66,68,69,70,71,72,77,79,80,84,86,87,88,89,90,95,97,98,102,104,105,106,107,108,113,115,116,120,122,123,124,125,126,131,133,134,137,139,140,141,142,143,148,150,151,155,157,158,159,160,161,166,168,169,173,175,176,177,178,179,184,186,187,191,193,194,195,196,197,202,204,205,209,212,213,216,217,221,222,226,227,231,232,241,242,243,274,277,293,304,310,311,312,313,314,315,316,317,318,319,320,321,323,324,325,326,327,330,335,337,338,339,340,341,346,348,349,353,355,356,357,358,359,364,366,367,371,373,374,375,376,377,383,384,388,393,394,395,396,397,402,404,405,409,411,412,413,414,415,420,422,423,427,433,434,436,437,449,477,478,479,481,482,483,488,489,490,491,495,496,497,498,499,500,501,511,512,513,514,515,516,517,518,519,520,521,522,523,526,529,530,531,532,534,536,539,543,545,546,547,549,550,553,554,555,557,560,564,565,566,567,568,569,571,572,573,588,589,590,592,594,595,599,600,601,602,606,607,608,609,610,611,612,622,623,624,625,626,627,628,629,630,631,632,633,634,637,640,641,642,643,645,647,650,654,656,657,658,660,661,664,665,666,668,671,675,676,677,678,679,680,682,683,684,713,714,715,717,719,720,725,726,727,728,732,733,734,735,736,737,738,748,749,750,751,752,753,754,755,756,757,758,759,762,765,766,767,768,770,772,775,778,780,781,782,784,785,788,789,790,792,795,799,800,801,802,803,804,806,807,808,824,825,827,829,830,835,836,837,841,842,843,844,845,846,856,857,858,859,860,861,862,863,864,865,866,867,868,871,874,875,876,877,879,881,884,888,890,891,892,894,895,898,899,900,902,905,909,910,911,912,913,914,916,917,918,939,942,944,945,946,950,951,952,953,954,955,956,957,963,965,966,967,968,969,970,972,973,974,975,978,979,980,986,987,988,992,994,995,996,997,999,1000,1001,1002,1003,1004,1005,1006,1007,1008,1009,1010,1011,1012,1013,1014,1015,1016,1018,1019,1026,1028,1030,1031,1032,1033,1035,1037,1040,1043,1044,1046,1052,1058,1061,1062,1063,1065,1070,1071,1072,1073,1074,1075,1077,1078,1079,1147,1170,1198,1199,1200,1201,1202,1207,1209,1210,1211,1214,1216,1217,1218,1219,1220,1225,1227,1228,1229,1232,1234,1235,1236,1237,1238,1243,1245,1246,1247,1250,1252,1253,1254,1255,1256,1261,1263,1264,1265,1268,1270,1271,1272,1273,1274,1279,1281,1282,1283,1286,1288,1289,1290,1291,1292,1297,1299,1300,1301,1304,1306,1307,1308,1309,1310,1314,1316,1317,1318,1321,1323,1324,1325,1326,1327,1332,1334,1335,1336,1339,1341,1342,1343,1344,1345,1350,1352,1353,1356,1359,1360,1364,1365,1369,1370,1374,1375,1379,1380,1455,1456,1457,1458,1459,1460,1461,1462,1463,1468,1470,1471,1472,1475,1477,1478,1479,1480,1481,1486,1488,1489,1490,1493,1495,1496,1497,1498,1499,1504,1506,1507,1508,1511,1515,1516,1517,1518,1519,1524,1526,1527,1528,1531,1533,1534,1535,1536,1537,1542,1544,1545,1546,1549,1555,1556,1558,1559,1600,1601,1602,1604,1606,1607,1612,1613,1614,1615,1619,1620,1621,1622,1623,1624,1625,1635,1636,1637,1638,1639,1640,1641,1642,1643,1644,1645,1646,1647,1650,1653,1654,1655,1657,1659,1662,1666,1668,1671,1672,1673,1675,1678,1682,1683,1684,1685,1686,1688,1689,1690,1741,1750,1751,1757,1759,1760,1764,1765,1773,1775,1776,1777,1783,1790,1791,1793,1794,1796,1797,1799,1800,1802,1803,1805,1806,1808,1809,1811,1812,1813,1814,1816,1817,1819,1820,1830,1837,1839,1840,1844,1845,1852,1854,1855,1856,1862,1917,1918,1920,1921,1925,1942,1947,1960,1962,1963,1964,1977,1982,1983,1984) have mixed types. Specify dtype option on import or set low_memory=False.\n",
      "  df = pd.read_csv('dataset_facebook-groups-scraper_2025-04-11_03-37-09-271.csv',encoding='utf-8')\n"
     ]
    }
   ],
   "source": [
    "df = pd.read_csv('dataset_facebook-groups-scraper_2025-04-11_03-37-09-271.csv',encoding='utf-8')"
   ]
  },
  {
   "cell_type": "code",
   "execution_count": 5,
   "id": "5e7c8734",
   "metadata": {},
   "outputs": [
    {
     "data": {
      "text/html": [
       "<div>\n",
       "<style scoped>\n",
       "    .dataframe tbody tr th:only-of-type {\n",
       "        vertical-align: middle;\n",
       "    }\n",
       "\n",
       "    .dataframe tbody tr th {\n",
       "        vertical-align: top;\n",
       "    }\n",
       "\n",
       "    .dataframe thead th {\n",
       "        text-align: right;\n",
       "    }\n",
       "</style>\n",
       "<table border=\"1\" class=\"dataframe\">\n",
       "  <thead>\n",
       "    <tr style=\"text-align: right;\">\n",
       "      <th></th>\n",
       "      <th>attachments/0/__isMedia</th>\n",
       "      <th>attachments/0/__typename</th>\n",
       "      <th>attachments/0/accent_color</th>\n",
       "      <th>attachments/0/animated_image_caption</th>\n",
       "      <th>attachments/0/audio_availability</th>\n",
       "      <th>attachments/0/audio_settings</th>\n",
       "      <th>attachments/0/audio_user_preferred_language</th>\n",
       "      <th>attachments/0/autoplay_gating_result</th>\n",
       "      <th>attachments/0/breakingStatus</th>\n",
       "      <th>attachments/0/broadcast_id</th>\n",
       "      <th>...</th>\n",
       "      <th>topComments/1/profileId</th>\n",
       "      <th>topComments/1/profileName</th>\n",
       "      <th>topComments/1/profilePicture</th>\n",
       "      <th>topComments/1/profileUrl</th>\n",
       "      <th>topComments/1/text</th>\n",
       "      <th>topComments/1/threadingDepth</th>\n",
       "      <th>topReactionsCount</th>\n",
       "      <th>url</th>\n",
       "      <th>user/id</th>\n",
       "      <th>user/name</th>\n",
       "    </tr>\n",
       "  </thead>\n",
       "  <tbody>\n",
       "    <tr>\n",
       "      <th>0</th>\n",
       "      <td>NaN</td>\n",
       "      <td>NaN</td>\n",
       "      <td>NaN</td>\n",
       "      <td>NaN</td>\n",
       "      <td>NaN</td>\n",
       "      <td>NaN</td>\n",
       "      <td>NaN</td>\n",
       "      <td>NaN</td>\n",
       "      <td>NaN</td>\n",
       "      <td>NaN</td>\n",
       "      <td>...</td>\n",
       "      <td>NaN</td>\n",
       "      <td>NaN</td>\n",
       "      <td>NaN</td>\n",
       "      <td>NaN</td>\n",
       "      <td>NaN</td>\n",
       "      <td>NaN</td>\n",
       "      <td>0</td>\n",
       "      <td>https://www.facebook.com/groups/30194376809621...</td>\n",
       "      <td>pfbid02yTDy4LVpH6CW1N6ZnMnD87AP4eDiXmA6WsdEdwa...</td>\n",
       "      <td>พัชรินทร์ ออรคิดส์</td>\n",
       "    </tr>\n",
       "    <tr>\n",
       "      <th>1</th>\n",
       "      <td>NaN</td>\n",
       "      <td>NaN</td>\n",
       "      <td>NaN</td>\n",
       "      <td>NaN</td>\n",
       "      <td>NaN</td>\n",
       "      <td>NaN</td>\n",
       "      <td>NaN</td>\n",
       "      <td>NaN</td>\n",
       "      <td>NaN</td>\n",
       "      <td>NaN</td>\n",
       "      <td>...</td>\n",
       "      <td>NaN</td>\n",
       "      <td>NaN</td>\n",
       "      <td>NaN</td>\n",
       "      <td>NaN</td>\n",
       "      <td>NaN</td>\n",
       "      <td>NaN</td>\n",
       "      <td>0</td>\n",
       "      <td>https://www.facebook.com/groups/30194376809621...</td>\n",
       "      <td>100005467236869</td>\n",
       "      <td>Anna Tongdee</td>\n",
       "    </tr>\n",
       "    <tr>\n",
       "      <th>2</th>\n",
       "      <td>NaN</td>\n",
       "      <td>NaN</td>\n",
       "      <td>NaN</td>\n",
       "      <td>NaN</td>\n",
       "      <td>NaN</td>\n",
       "      <td>NaN</td>\n",
       "      <td>NaN</td>\n",
       "      <td>NaN</td>\n",
       "      <td>NaN</td>\n",
       "      <td>NaN</td>\n",
       "      <td>...</td>\n",
       "      <td>NaN</td>\n",
       "      <td>NaN</td>\n",
       "      <td>NaN</td>\n",
       "      <td>NaN</td>\n",
       "      <td>NaN</td>\n",
       "      <td>NaN</td>\n",
       "      <td>0</td>\n",
       "      <td>https://www.facebook.com/groups/30194376809621...</td>\n",
       "      <td>pfbid023aWEFc2BmSXymPks5ytWHgwan2JpfbS5t1zwKAP...</td>\n",
       "      <td>Chanborom Garden</td>\n",
       "    </tr>\n",
       "    <tr>\n",
       "      <th>3</th>\n",
       "      <td>NaN</td>\n",
       "      <td>NaN</td>\n",
       "      <td>NaN</td>\n",
       "      <td>NaN</td>\n",
       "      <td>NaN</td>\n",
       "      <td>NaN</td>\n",
       "      <td>NaN</td>\n",
       "      <td>NaN</td>\n",
       "      <td>NaN</td>\n",
       "      <td>NaN</td>\n",
       "      <td>...</td>\n",
       "      <td>NaN</td>\n",
       "      <td>NaN</td>\n",
       "      <td>NaN</td>\n",
       "      <td>NaN</td>\n",
       "      <td>NaN</td>\n",
       "      <td>NaN</td>\n",
       "      <td>0</td>\n",
       "      <td>https://www.facebook.com/groups/30194376809621...</td>\n",
       "      <td>pfbid02PqPQTuTdArFE3TLPmF2XRPABUAWmpCDvD3SbWEG...</td>\n",
       "      <td>วิเชียร ห้วยไชย</td>\n",
       "    </tr>\n",
       "    <tr>\n",
       "      <th>4</th>\n",
       "      <td>NaN</td>\n",
       "      <td>NaN</td>\n",
       "      <td>NaN</td>\n",
       "      <td>NaN</td>\n",
       "      <td>NaN</td>\n",
       "      <td>NaN</td>\n",
       "      <td>NaN</td>\n",
       "      <td>NaN</td>\n",
       "      <td>NaN</td>\n",
       "      <td>NaN</td>\n",
       "      <td>...</td>\n",
       "      <td>NaN</td>\n",
       "      <td>NaN</td>\n",
       "      <td>NaN</td>\n",
       "      <td>NaN</td>\n",
       "      <td>NaN</td>\n",
       "      <td>NaN</td>\n",
       "      <td>1</td>\n",
       "      <td>https://www.facebook.com/groups/30194376809621...</td>\n",
       "      <td>100048556321990</td>\n",
       "      <td>Nuy Youme</td>\n",
       "    </tr>\n",
       "  </tbody>\n",
       "</table>\n",
       "<p>5 rows × 2000 columns</p>\n",
       "</div>"
      ],
      "text/plain": [
       "  attachments/0/__isMedia attachments/0/__typename attachments/0/accent_color  \\\n",
       "0                     NaN                      NaN                        NaN   \n",
       "1                     NaN                      NaN                        NaN   \n",
       "2                     NaN                      NaN                        NaN   \n",
       "3                     NaN                      NaN                        NaN   \n",
       "4                     NaN                      NaN                        NaN   \n",
       "\n",
       "   attachments/0/animated_image_caption attachments/0/audio_availability  \\\n",
       "0                                   NaN                              NaN   \n",
       "1                                   NaN                              NaN   \n",
       "2                                   NaN                              NaN   \n",
       "3                                   NaN                              NaN   \n",
       "4                                   NaN                              NaN   \n",
       "\n",
       "   attachments/0/audio_settings attachments/0/audio_user_preferred_language  \\\n",
       "0                           NaN                                         NaN   \n",
       "1                           NaN                                         NaN   \n",
       "2                           NaN                                         NaN   \n",
       "3                           NaN                                         NaN   \n",
       "4                           NaN                                         NaN   \n",
       "\n",
       "  attachments/0/autoplay_gating_result attachments/0/breakingStatus  \\\n",
       "0                                  NaN                          NaN   \n",
       "1                                  NaN                          NaN   \n",
       "2                                  NaN                          NaN   \n",
       "3                                  NaN                          NaN   \n",
       "4                                  NaN                          NaN   \n",
       "\n",
       "   attachments/0/broadcast_id  ...  topComments/1/profileId  \\\n",
       "0                         NaN  ...                      NaN   \n",
       "1                         NaN  ...                      NaN   \n",
       "2                         NaN  ...                      NaN   \n",
       "3                         NaN  ...                      NaN   \n",
       "4                         NaN  ...                      NaN   \n",
       "\n",
       "   topComments/1/profileName  topComments/1/profilePicture  \\\n",
       "0                        NaN                           NaN   \n",
       "1                        NaN                           NaN   \n",
       "2                        NaN                           NaN   \n",
       "3                        NaN                           NaN   \n",
       "4                        NaN                           NaN   \n",
       "\n",
       "  topComments/1/profileUrl topComments/1/text topComments/1/threadingDepth  \\\n",
       "0                      NaN                NaN                          NaN   \n",
       "1                      NaN                NaN                          NaN   \n",
       "2                      NaN                NaN                          NaN   \n",
       "3                      NaN                NaN                          NaN   \n",
       "4                      NaN                NaN                          NaN   \n",
       "\n",
       "  topReactionsCount                                                url  \\\n",
       "0                 0  https://www.facebook.com/groups/30194376809621...   \n",
       "1                 0  https://www.facebook.com/groups/30194376809621...   \n",
       "2                 0  https://www.facebook.com/groups/30194376809621...   \n",
       "3                 0  https://www.facebook.com/groups/30194376809621...   \n",
       "4                 1  https://www.facebook.com/groups/30194376809621...   \n",
       "\n",
       "                                             user/id           user/name  \n",
       "0  pfbid02yTDy4LVpH6CW1N6ZnMnD87AP4eDiXmA6WsdEdwa...  พัชรินทร์ ออรคิดส์  \n",
       "1                                    100005467236869        Anna Tongdee  \n",
       "2  pfbid023aWEFc2BmSXymPks5ytWHgwan2JpfbS5t1zwKAP...    Chanborom Garden  \n",
       "3  pfbid02PqPQTuTdArFE3TLPmF2XRPABUAWmpCDvD3SbWEG...     วิเชียร ห้วยไชย  \n",
       "4                                    100048556321990           Nuy Youme  \n",
       "\n",
       "[5 rows x 2000 columns]"
      ]
     },
     "execution_count": 5,
     "metadata": {},
     "output_type": "execute_result"
    }
   ],
   "source": [
    "df.head()"
   ]
  },
  {
   "cell_type": "code",
   "execution_count": 6,
   "id": "8783f3b3",
   "metadata": {},
   "outputs": [],
   "source": [
    "df_cleaned = duckdb.query(\"\"\"\n",
    "select \n",
    "grouptitle as \"group\"\n",
    ", cast(time as date) as date\n",
    ", id as post_id\n",
    ", title\n",
    ", coalesce(likescount, 0) as reaction_count\n",
    "from df\n",
    "where grouptitle is not null\n",
    "and grouptitle is not null\n",
    "and time is not null\n",
    "and facebookid is not null\n",
    "and title is not null\n",
    "and length(title) > 5\n",
    "and length(title) <= 1000\n",
    "and title not like 'this content%'\n",
    "and title != ''\n",
    "\"\"\").to_df()"
   ]
  },
  {
   "cell_type": "code",
   "execution_count": 7,
   "id": "75519765",
   "metadata": {},
   "outputs": [],
   "source": [
    "# df_cleaned = duckdb.query(\"\"\"\n",
    "# select * from df_cleaned limit 100\n",
    "# \"\"\").to_df()"
   ]
  },
  {
   "cell_type": "code",
   "execution_count": 8,
   "id": "15169607",
   "metadata": {},
   "outputs": [
    {
     "data": {
      "text/html": [
       "<div>\n",
       "<style scoped>\n",
       "    .dataframe tbody tr th:only-of-type {\n",
       "        vertical-align: middle;\n",
       "    }\n",
       "\n",
       "    .dataframe tbody tr th {\n",
       "        vertical-align: top;\n",
       "    }\n",
       "\n",
       "    .dataframe thead th {\n",
       "        text-align: right;\n",
       "    }\n",
       "</style>\n",
       "<table border=\"1\" class=\"dataframe\">\n",
       "  <thead>\n",
       "    <tr style=\"text-align: right;\">\n",
       "      <th></th>\n",
       "      <th>group</th>\n",
       "      <th>date</th>\n",
       "      <th>post_id</th>\n",
       "      <th>title</th>\n",
       "      <th>reaction_count</th>\n",
       "    </tr>\n",
       "  </thead>\n",
       "  <tbody>\n",
       "    <tr>\n",
       "      <th>0</th>\n",
       "      <td>กลุ่มคนรักกล้วยไม้ป่า จะซื้อ จะขาย แจก แลกเปลี...</td>\n",
       "      <td>2025-04-11</td>\n",
       "      <td>UzpfSTEwMDA0ODU1NjMyMTk5MDpWSzoyNjA4NjUxMDYyNj...</td>\n",
       "      <td>003235/Bp1760/FR008/\\n#เอื้องตาเหิน ไม้ป่าหายา...</td>\n",
       "      <td>0</td>\n",
       "    </tr>\n",
       "    <tr>\n",
       "      <th>1</th>\n",
       "      <td>กลุ่มคนรักกล้วยไม้ป่า จะซื้อ จะขาย แจก แลกเปลี...</td>\n",
       "      <td>2025-04-10</td>\n",
       "      <td>UzpfSTEwMDAwODExMDI5ODM4NDpWSzoyNjA4NjMzMDk5Mz...</td>\n",
       "      <td>(SOLD) เอื้องกุหลาบแดง</td>\n",
       "      <td>1</td>\n",
       "    </tr>\n",
       "    <tr>\n",
       "      <th>2</th>\n",
       "      <td>กลุ่มคนรักกล้วยไม้ป่า จะซื้อ จะขาย แจก แลกเปลี...</td>\n",
       "      <td>2025-04-10</td>\n",
       "      <td>UzpfSTEwMDA0ODU1NjMyMTk5MDpWSzoyNjA4MzAwMDYyNj...</td>\n",
       "      <td>003235/Bp1760/FR008\\n🚩🚩ชุดรวม 100 บาท🚩🚩\\nเอื้อ...</td>\n",
       "      <td>0</td>\n",
       "    </tr>\n",
       "    <tr>\n",
       "      <th>3</th>\n",
       "      <td>กลุ่มคนรักกล้วยไม้ป่า จะซื้อ จะขาย แจก แลกเปลี...</td>\n",
       "      <td>2025-04-10</td>\n",
       "      <td>UzpfSTEwMDA0ODU1NjMyMTk5MDpWSzoyNjA4Mjg2MDk5Mz...</td>\n",
       "      <td>003235/FR008/BP1760/\\n🦁 สิง โต กลีบ หลอด/สิง โ...</td>\n",
       "      <td>0</td>\n",
       "    </tr>\n",
       "    <tr>\n",
       "      <th>4</th>\n",
       "      <td>กลุ่มคนรักกล้วยไม้ป่า จะซื้อ จะขาย แจก แลกเปลี...</td>\n",
       "      <td>2025-04-10</td>\n",
       "      <td>UzpfSTEwMDA0ODU1NjMyMTk5MDpWSzoyNjA4MDg4OTIyNz...</td>\n",
       "      <td>003235/BP1760/FR008\\n#เอื้องลิ้นกระบือ ไม้ป่าห...</td>\n",
       "      <td>0</td>\n",
       "    </tr>\n",
       "  </tbody>\n",
       "</table>\n",
       "</div>"
      ],
      "text/plain": [
       "                                               group       date  \\\n",
       "0  กลุ่มคนรักกล้วยไม้ป่า จะซื้อ จะขาย แจก แลกเปลี... 2025-04-11   \n",
       "1  กลุ่มคนรักกล้วยไม้ป่า จะซื้อ จะขาย แจก แลกเปลี... 2025-04-10   \n",
       "2  กลุ่มคนรักกล้วยไม้ป่า จะซื้อ จะขาย แจก แลกเปลี... 2025-04-10   \n",
       "3  กลุ่มคนรักกล้วยไม้ป่า จะซื้อ จะขาย แจก แลกเปลี... 2025-04-10   \n",
       "4  กลุ่มคนรักกล้วยไม้ป่า จะซื้อ จะขาย แจก แลกเปลี... 2025-04-10   \n",
       "\n",
       "                                             post_id  \\\n",
       "0  UzpfSTEwMDA0ODU1NjMyMTk5MDpWSzoyNjA4NjUxMDYyNj...   \n",
       "1  UzpfSTEwMDAwODExMDI5ODM4NDpWSzoyNjA4NjMzMDk5Mz...   \n",
       "2  UzpfSTEwMDA0ODU1NjMyMTk5MDpWSzoyNjA4MzAwMDYyNj...   \n",
       "3  UzpfSTEwMDA0ODU1NjMyMTk5MDpWSzoyNjA4Mjg2MDk5Mz...   \n",
       "4  UzpfSTEwMDA0ODU1NjMyMTk5MDpWSzoyNjA4MDg4OTIyNz...   \n",
       "\n",
       "                                               title  reaction_count  \n",
       "0  003235/Bp1760/FR008/\\n#เอื้องตาเหิน ไม้ป่าหายา...               0  \n",
       "1                             (SOLD) เอื้องกุหลาบแดง               1  \n",
       "2  003235/Bp1760/FR008\\n🚩🚩ชุดรวม 100 บาท🚩🚩\\nเอื้อ...               0  \n",
       "3  003235/FR008/BP1760/\\n🦁 สิง โต กลีบ หลอด/สิง โ...               0  \n",
       "4  003235/BP1760/FR008\\n#เอื้องลิ้นกระบือ ไม้ป่าห...               0  "
      ]
     },
     "execution_count": 8,
     "metadata": {},
     "output_type": "execute_result"
    }
   ],
   "source": [
    "df_cleaned.head()"
   ]
  },
  {
   "cell_type": "code",
   "execution_count": 9,
   "id": "39a7d08f",
   "metadata": {},
   "outputs": [
    {
     "data": {
      "text/plain": [
       "(1563, 5)"
      ]
     },
     "execution_count": 9,
     "metadata": {},
     "output_type": "execute_result"
    }
   ],
   "source": [
    "df_cleaned.shape"
   ]
  },
  {
   "cell_type": "code",
   "execution_count": null,
   "id": "3bae9a53",
   "metadata": {},
   "outputs": [],
   "source": [
    "client = AzureOpenAI(\n",
    "    azure_endpoint=\"\",\n",
    "    api_version=\"2024-12-01-preview\",\n",
    "    api_key=\"\",\n",
    ")"
   ]
  },
  {
   "cell_type": "code",
   "execution_count": null,
   "id": "0d04731f",
   "metadata": {},
   "outputs": [],
   "source": [
    "OrchidTaggingSchema = {\n",
    "    \"name\": \"analyze_orchid_post\",\n",
    "    \"description\": \"Analyze a post about orchids and extract cleaned text, post category, and listed orchid species.\",\n",
    "    \"parameters\": {\n",
    "        \"type\": \"object\",\n",
    "        \"properties\": {\n",
    "            \"clean_post\": {\n",
    "                \"type\": \"string\",\n",
    "                \"description\": \"Cleaned text content without emojis, hashtags, unrelated symbols or number code or any code that\\\n",
    "                    is not related with context.\"\n",
    "            },\n",
    "            \"post_category\": {\n",
    "                \"type\": \"string\",\n",
    "                \"description\": \"One of: Orchid-selling, Orchid-buying, Orchid tools-selling, Orchid tools-buying, Orchid discussion , Not Orchid or orchid tools-related\"\n",
    "                \"Some post will contain only name of species then you can categoeize as a Orchid-selling\",\n",
    "                \"enum\": [\"Orchid-selling\", \"Orchid-buying\", \"Orchid tools-selling\",\n",
    "                         \"Orchid tools-buying\", \"Orchid discussion\",\"Not Orchid or orchid tools-related\"]\n",
    "            },\n",
    "            \"orchid_species\": {\n",
    "                \"type\": \"array\",\n",
    "                \"items\": {\n",
    "                    \"type\": \"string\"\n",
    "                },\n",
    "                \"description\": \"List of all Thai orchid species mentioned, for example ['สีดา','ไอยเรศ'].\"\n",
    "            }\n",
    "        },\n",
    "        \"required\": [\"clean_post\", \"post_category\", \"orchid_species\"]\n",
    "    }\n",
    "}"
   ]
  },
  {
   "cell_type": "code",
   "execution_count": 12,
   "id": "cf0ed77b",
   "metadata": {},
   "outputs": [],
   "source": [
    "def analyze_orchid_post(client, model_name, system_prompt, user_input, post_id):\n",
    "    try:\n",
    "        response = client.chat.completions.create(\n",
    "            messages=[\n",
    "                {\"role\": \"system\", \"content\": system_prompt},\n",
    "                {\"role\": \"user\", \"content\": user_input}\n",
    "            ],\n",
    "            tools=[\n",
    "                {\n",
    "                    \"type\": \"function\",\n",
    "                    \"function\": OrchidTaggingSchema\n",
    "                }\n",
    "            ],\n",
    "            tool_choice=\"required\",\n",
    "            max_tokens=800,\n",
    "            temperature=0.0,\n",
    "            model=model_name\n",
    "        )\n",
    "\n",
    "        content = response.choices[0].message.tool_calls[0].function.arguments\n",
    "        result = json.loads(content)\n",
    "        result[\"post_id\"] = post_id\n",
    "        return result\n",
    "\n",
    "    except Exception as e:\n",
    "        return None"
   ]
  },
  {
   "cell_type": "code",
   "execution_count": 13,
   "id": "81123577",
   "metadata": {},
   "outputs": [],
   "source": [
    "test_input = \"กล้วยไม้ผมสวยไหมครับ มีทั้ง แวนด้า แคทลียา หวาย /d/few fe//ewfwe/f/\"\n",
    "test_id = '12412r512312'"
   ]
  },
  {
   "cell_type": "code",
   "execution_count": 14,
   "id": "65781a9b",
   "metadata": {},
   "outputs": [
    {
     "data": {
      "text/plain": [
       "{'clean_post': 'กล้วยไม้ผมสวยไหมครับ มีทั้ง แวนด้า แคทลียา หวาย',\n",
       " 'post_category': 'Orchid discussion',\n",
       " 'orchid_species': ['แวนด้า', 'แคทลียา', 'หวาย'],\n",
       " 'post_id': '12412r512312'}"
      ]
     },
     "execution_count": 14,
     "metadata": {},
     "output_type": "execute_result"
    }
   ],
   "source": [
    "analyze_orchid_post(client=client\n",
    "                    , model_name='gpt-4.1-mini'\n",
    "                    , system_prompt='You are a orchid expert assistant.'\n",
    "                    , user_input=test_input, post_id=test_id)"
   ]
  },
  {
   "cell_type": "markdown",
   "id": "b6ef48f0",
   "metadata": {},
   "source": [
    "# Tag all post"
   ]
  },
  {
   "cell_type": "code",
   "execution_count": 15,
   "id": "711405db",
   "metadata": {},
   "outputs": [],
   "source": [
    "results = []"
   ]
  },
  {
   "cell_type": "code",
   "execution_count": 16,
   "id": "0e5cd933",
   "metadata": {},
   "outputs": [
    {
     "name": "stderr",
     "output_type": "stream",
     "text": [
      "Analyzing Orchid Posts: 100%|██████████| 1563/1563 [33:45<00:00,  1.30s/it] \n"
     ]
    }
   ],
   "source": [
    "for idx, row in tqdm(df_cleaned.iterrows(), total=len(df_cleaned), desc=\"Analyzing Orchid Posts\"):\n",
    "    title = row['title']\n",
    "    post_id = row['post_id']\n",
    "    \n",
    "    result = analyze_orchid_post(client=client\n",
    "                                 , model_name='gpt-4o-mini'\n",
    "                                 , system_prompt='You are a orchid expert assistant.'\n",
    "                                 , user_input=title\n",
    "                                 , post_id=post_id)   \n",
    "    if result:\n",
    "        results.append(result)"
   ]
  },
  {
   "cell_type": "code",
   "execution_count": 17,
   "id": "f36f07d1",
   "metadata": {},
   "outputs": [],
   "source": [
    "df_tagged_full = pd.DataFrame(results)\n",
    "df_tagged_1 = df_tagged_full.drop(columns=['orchid_species'])\n",
    "df_tagged_2 = df_tagged_full[['post_id', 'orchid_species']].explode('orchid_species').dropna()"
   ]
  },
  {
   "cell_type": "markdown",
   "id": "79dcef81",
   "metadata": {},
   "source": [
    "# Final table"
   ]
  },
  {
   "cell_type": "code",
   "execution_count": 18,
   "id": "3b76bf9b",
   "metadata": {},
   "outputs": [],
   "source": [
    "df_tagging_final = duckdb.query(\"\"\"\n",
    "select \"group\", cast(\"date\" as date) as datetime, a.post_id, clean_post as title_clearned, post_category, reaction_count\n",
    "from df_cleaned a\n",
    "inner join df_tagged_1 b\n",
    "on a.post_id = b.post_id\n",
    "where post_category in ('Orchid-selling')\n",
    "\"\"\").to_df()"
   ]
  },
  {
   "cell_type": "code",
   "execution_count": 19,
   "id": "a45990a8",
   "metadata": {},
   "outputs": [],
   "source": [
    "df_species_final = duckdb.query(\"\"\"\n",
    "select b.*\n",
    "from df_tagged_1 a\n",
    "inner join df_tagged_2 b\n",
    "on a.post_id = b.post_id\n",
    "where post_category in ('Orchid-selling')\n",
    "\"\"\").to_df()"
   ]
  },
  {
   "cell_type": "markdown",
   "id": "1bd3a7b2",
   "metadata": {},
   "source": [
    "# Export"
   ]
  },
  {
   "cell_type": "code",
   "execution_count": 21,
   "id": "d5332259",
   "metadata": {},
   "outputs": [],
   "source": [
    "df_tagging_final.to_excel('tagging.xlsx',index=False)"
   ]
  },
  {
   "cell_type": "code",
   "execution_count": 22,
   "id": "318285cf",
   "metadata": {},
   "outputs": [],
   "source": [
    "df_species_final.to_excel('species.xlsx',index=False)"
   ]
  }
 ],
 "metadata": {
  "kernelspec": {
   "display_name": "base",
   "language": "python",
   "name": "python3"
  },
  "language_info": {
   "codemirror_mode": {
    "name": "ipython",
    "version": 3
   },
   "file_extension": ".py",
   "mimetype": "text/x-python",
   "name": "python",
   "nbconvert_exporter": "python",
   "pygments_lexer": "ipython3",
   "version": "3.12.7"
  }
 },
 "nbformat": 4,
 "nbformat_minor": 5
}
