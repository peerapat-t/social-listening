{
 "cells": [
  {
   "cell_type": "code",
   "execution_count": 1,
   "id": "dee2a84a",
   "metadata": {},
   "outputs": [],
   "source": [
    "# !pip install duckdb\n",
    "import pandas as pd\n",
    "import numpy as np\n",
    "import duckdb"
   ]
  },
  {
   "cell_type": "code",
   "execution_count": 2,
   "id": "77aeac5a",
   "metadata": {},
   "outputs": [],
   "source": [
    "from sentence_transformers import SentenceTransformer\n",
    "from sklearn.decomposition import PCA"
   ]
  },
  {
   "cell_type": "markdown",
   "id": "58e1eedf",
   "metadata": {},
   "source": [
    "# Import data"
   ]
  },
  {
   "cell_type": "code",
   "execution_count": 3,
   "id": "f9d55bd8",
   "metadata": {},
   "outputs": [],
   "source": [
    "df = pd.read_excel('tagging.xlsx')"
   ]
  },
  {
   "cell_type": "code",
   "execution_count": 6,
   "id": "bc45598d",
   "metadata": {},
   "outputs": [],
   "source": [
    "df = df[['post_id','title']]"
   ]
  },
  {
   "cell_type": "code",
   "execution_count": 7,
   "id": "00f691df",
   "metadata": {},
   "outputs": [
    {
     "data": {
      "text/html": [
       "<div>\n",
       "<style scoped>\n",
       "    .dataframe tbody tr th:only-of-type {\n",
       "        vertical-align: middle;\n",
       "    }\n",
       "\n",
       "    .dataframe tbody tr th {\n",
       "        vertical-align: top;\n",
       "    }\n",
       "\n",
       "    .dataframe thead th {\n",
       "        text-align: right;\n",
       "    }\n",
       "</style>\n",
       "<table border=\"1\" class=\"dataframe\">\n",
       "  <thead>\n",
       "    <tr style=\"text-align: right;\">\n",
       "      <th></th>\n",
       "      <th>post_id</th>\n",
       "      <th>title</th>\n",
       "    </tr>\n",
       "  </thead>\n",
       "  <tbody>\n",
       "    <tr>\n",
       "      <th>0</th>\n",
       "      <td>A1030140475820283</td>\n",
       "      <td>New Year, New Me !!\\nมนุษย์เงินเดือน อยากย้ายง...</td>\n",
       "    </tr>\n",
       "    <tr>\n",
       "      <th>1</th>\n",
       "      <td>A1005583014933067</td>\n",
       "      <td>บลจ.ไทยพาณิชย์ เปิดเสนอขายกองทุน Term Fund อาย...</td>\n",
       "    </tr>\n",
       "    <tr>\n",
       "      <th>2</th>\n",
       "      <td>A1030341595800171</td>\n",
       "      <td>⚠️ หุ้นไทย วันแรก -21 จุด ⚠️ \\nSET อาจดูไม่ค่อ...</td>\n",
       "    </tr>\n",
       "    <tr>\n",
       "      <th>3</th>\n",
       "      <td>A1030380105796320</td>\n",
       "      <td>เริ่มต้นปีใหม่ เพิ่มความมั่งคั่งให้พอร์ตลงทุนต...</td>\n",
       "    </tr>\n",
       "    <tr>\n",
       "      <th>4</th>\n",
       "      <td>A1007770704714298</td>\n",
       "      <td>⏩️ Weekly Market Monitor สรุปการลงทุนเด่นรอบสั...</td>\n",
       "    </tr>\n",
       "  </tbody>\n",
       "</table>\n",
       "</div>"
      ],
      "text/plain": [
       "             post_id                                              title\n",
       "0  A1030140475820283  New Year, New Me !!\\nมนุษย์เงินเดือน อยากย้ายง...\n",
       "1  A1005583014933067  บลจ.ไทยพาณิชย์ เปิดเสนอขายกองทุน Term Fund อาย...\n",
       "2  A1030341595800171  ⚠️ หุ้นไทย วันแรก -21 จุด ⚠️ \\nSET อาจดูไม่ค่อ...\n",
       "3  A1030380105796320  เริ่มต้นปีใหม่ เพิ่มความมั่งคั่งให้พอร์ตลงทุนต...\n",
       "4  A1007770704714298  ⏩️ Weekly Market Monitor สรุปการลงทุนเด่นรอบสั..."
      ]
     },
     "execution_count": 7,
     "metadata": {},
     "output_type": "execute_result"
    }
   ],
   "source": [
    "df.head()"
   ]
  },
  {
   "cell_type": "markdown",
   "id": "b6ef48f0",
   "metadata": {},
   "source": [
    "# Embedding"
   ]
  },
  {
   "cell_type": "code",
   "execution_count": 8,
   "id": "01c46a7e",
   "metadata": {},
   "outputs": [],
   "source": [
    "model = SentenceTransformer('paraphrase-multilingual-MiniLM-L12-v2')"
   ]
  },
  {
   "cell_type": "code",
   "execution_count": 9,
   "id": "c63e23ee",
   "metadata": {},
   "outputs": [],
   "source": [
    "titles = df['title'].tolist()"
   ]
  },
  {
   "cell_type": "code",
   "execution_count": 12,
   "id": "348b0abe",
   "metadata": {},
   "outputs": [],
   "source": [
    "cleaned_titles = [str(title) for title in titles]"
   ]
  },
  {
   "cell_type": "code",
   "execution_count": 13,
   "id": "64f4ed77",
   "metadata": {},
   "outputs": [
    {
     "data": {
      "application/vnd.jupyter.widget-view+json": {
       "model_id": "5d20692ded7d49a69ea7754bde2aa171",
       "version_major": 2,
       "version_minor": 0
      },
      "text/plain": [
       "Batches:   0%|          | 0/35 [00:00<?, ?it/s]"
      ]
     },
     "metadata": {},
     "output_type": "display_data"
    }
   ],
   "source": [
    "embeddings = model.encode(cleaned_titles, show_progress_bar=True)"
   ]
  },
  {
   "cell_type": "markdown",
   "id": "9a4e340b",
   "metadata": {},
   "source": [
    "# Convert to 2-dims"
   ]
  },
  {
   "cell_type": "code",
   "execution_count": 14,
   "id": "3b3575bd",
   "metadata": {},
   "outputs": [],
   "source": [
    "pca = PCA(n_components=2)"
   ]
  },
  {
   "cell_type": "code",
   "execution_count": 15,
   "id": "96a15b6c",
   "metadata": {},
   "outputs": [],
   "source": [
    "embeddings_2d = pca.fit_transform(embeddings)"
   ]
  },
  {
   "cell_type": "code",
   "execution_count": 16,
   "id": "a31fef0c",
   "metadata": {},
   "outputs": [
    {
     "name": "stderr",
     "output_type": "stream",
     "text": [
      "C:\\Users\\user\\AppData\\Local\\Temp\\ipykernel_17172\\3534265649.py:1: SettingWithCopyWarning: \n",
      "A value is trying to be set on a copy of a slice from a DataFrame.\n",
      "Try using .loc[row_indexer,col_indexer] = value instead\n",
      "\n",
      "See the caveats in the documentation: https://pandas.pydata.org/pandas-docs/stable/user_guide/indexing.html#returning-a-view-versus-a-copy\n",
      "  df['dim1'] = embeddings_2d[:, 0]\n",
      "C:\\Users\\user\\AppData\\Local\\Temp\\ipykernel_17172\\3534265649.py:2: SettingWithCopyWarning: \n",
      "A value is trying to be set on a copy of a slice from a DataFrame.\n",
      "Try using .loc[row_indexer,col_indexer] = value instead\n",
      "\n",
      "See the caveats in the documentation: https://pandas.pydata.org/pandas-docs/stable/user_guide/indexing.html#returning-a-view-versus-a-copy\n",
      "  df['dim2'] = embeddings_2d[:, 1]\n"
     ]
    }
   ],
   "source": [
    "df['dim1'] = embeddings_2d[:, 0]\n",
    "df['dim2'] = embeddings_2d[:, 1]"
   ]
  },
  {
   "cell_type": "code",
   "execution_count": 17,
   "id": "e646715a",
   "metadata": {},
   "outputs": [],
   "source": [
    "df = df[['post_id','dim1','dim2']]"
   ]
  },
  {
   "cell_type": "markdown",
   "id": "4f643e5f",
   "metadata": {},
   "source": [
    "# Save"
   ]
  },
  {
   "cell_type": "code",
   "execution_count": 18,
   "id": "74cdbdb4",
   "metadata": {},
   "outputs": [],
   "source": [
    "df.to_excel('embedding.xlsx', index=False)"
   ]
  }
 ],
 "metadata": {
  "kernelspec": {
   "display_name": "base",
   "language": "python",
   "name": "python3"
  },
  "language_info": {
   "codemirror_mode": {
    "name": "ipython",
    "version": 3
   },
   "file_extension": ".py",
   "mimetype": "text/x-python",
   "name": "python",
   "nbconvert_exporter": "python",
   "pygments_lexer": "ipython3",
   "version": "3.12.7"
  }
 },
 "nbformat": 4,
 "nbformat_minor": 5
}
