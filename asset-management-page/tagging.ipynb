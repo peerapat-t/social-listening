{
 "cells": [
  {
   "cell_type": "code",
   "execution_count": 16,
   "metadata": {},
   "outputs": [],
   "source": [
    "import pandas as pd\n",
    "import numpy as np\n",
    "import duckdb"
   ]
  },
  {
   "cell_type": "code",
   "execution_count": 17,
   "metadata": {},
   "outputs": [],
   "source": [
    "import os\n",
    "import openai"
   ]
  },
  {
   "cell_type": "code",
   "execution_count": 18,
   "metadata": {},
   "outputs": [],
   "source": [
    "from langchain.chat_models import ChatOpenAI\n",
    "from langchain.prompts import ChatPromptTemplate\n",
    "from langchain_openai import ChatOpenAI"
   ]
  },
  {
   "cell_type": "code",
   "execution_count": 19,
   "metadata": {},
   "outputs": [],
   "source": [
    "import json\n",
    "import re\n",
    "from tqdm import tqdm"
   ]
  },
  {
   "cell_type": "code",
   "execution_count": 20,
   "metadata": {},
   "outputs": [],
   "source": [
    "import time"
   ]
  },
  {
   "cell_type": "markdown",
   "metadata": {},
   "source": [
    "# Clean page detail data"
   ]
  },
  {
   "cell_type": "code",
   "execution_count": 21,
   "metadata": {},
   "outputs": [],
   "source": [
    "df_page = pd.read_excel('dataset_facebook-pages-scraper_2025-04-27_17-56-14-278.xlsx')"
   ]
  },
  {
   "cell_type": "code",
   "execution_count": 22,
   "metadata": {},
   "outputs": [],
   "source": [
    "df_page_cleaned = duckdb.query(\"\"\"\n",
    "select title, likes as page_like\n",
    ",  facebookURL as page_url\n",
    ", case\n",
    "when facebookURL like '%KTAMSmartTrade%' then 'KTAM'\n",
    "when facebookURL like '%scbam%' then 'SCBAM'\n",
    "when facebookURL like '%krungsri%' then 'KSAM'\n",
    "when facebookURL like '%Eastspring%' then 'EASTSPRING'\n",
    "when facebookURL like '%kasikornasset%' then 'KASSET'\n",
    "when facebookURL like '%mfc%' then 'MFC'\n",
    "when facebookURL like '%bblam%' then 'BBLAM'\n",
    "end fund_house\n",
    "from df_page where title is not null\n",
    "\"\"\").to_df()"
   ]
  },
  {
   "cell_type": "code",
   "execution_count": 23,
   "metadata": {},
   "outputs": [
    {
     "data": {
      "text/html": [
       "<div>\n",
       "<style scoped>\n",
       "    .dataframe tbody tr th:only-of-type {\n",
       "        vertical-align: middle;\n",
       "    }\n",
       "\n",
       "    .dataframe tbody tr th {\n",
       "        vertical-align: top;\n",
       "    }\n",
       "\n",
       "    .dataframe thead th {\n",
       "        text-align: right;\n",
       "    }\n",
       "</style>\n",
       "<table border=\"1\" class=\"dataframe\">\n",
       "  <thead>\n",
       "    <tr style=\"text-align: right;\">\n",
       "      <th></th>\n",
       "      <th>title</th>\n",
       "      <th>page_like</th>\n",
       "      <th>page_url</th>\n",
       "      <th>fund_house</th>\n",
       "    </tr>\n",
       "  </thead>\n",
       "  <tbody>\n",
       "    <tr>\n",
       "      <th>0</th>\n",
       "      <td>KTAM Smart Trade | Bangkok</td>\n",
       "      <td>500342</td>\n",
       "      <td>https://www.facebook.com/KTAMSmartTrade</td>\n",
       "      <td>KTAM</td>\n",
       "    </tr>\n",
       "    <tr>\n",
       "      <th>1</th>\n",
       "      <td>SCBAM บริษัทหลักทรัพย์จัดการกองทุน ไทยพาณิชย์ ...</td>\n",
       "      <td>137537</td>\n",
       "      <td>https://www.facebook.com/scbam.official</td>\n",
       "      <td>SCBAM</td>\n",
       "    </tr>\n",
       "    <tr>\n",
       "      <th>2</th>\n",
       "      <td>Krungsri Asset Management | Bangkok</td>\n",
       "      <td>80095</td>\n",
       "      <td>https://www.facebook.com/krungsriasset.official</td>\n",
       "      <td>KSAM</td>\n",
       "    </tr>\n",
       "    <tr>\n",
       "      <th>3</th>\n",
       "      <td>Eastspring Thailand</td>\n",
       "      <td>107050</td>\n",
       "      <td>https://www.facebook.com/Eastspring.Thailand</td>\n",
       "      <td>EASTSPRING</td>\n",
       "    </tr>\n",
       "    <tr>\n",
       "      <th>4</th>\n",
       "      <td>KAsset | Bangkok</td>\n",
       "      <td>295983</td>\n",
       "      <td>https://www.facebook.com/kasikornasset</td>\n",
       "      <td>KASSET</td>\n",
       "    </tr>\n",
       "    <tr>\n",
       "      <th>5</th>\n",
       "      <td>MFC Asset Management | Bangkok</td>\n",
       "      <td>23678</td>\n",
       "      <td>https://www.facebook.com/mfcfunds</td>\n",
       "      <td>MFC</td>\n",
       "    </tr>\n",
       "    <tr>\n",
       "      <th>6</th>\n",
       "      <td>BBLAM | Bangkok</td>\n",
       "      <td>164170</td>\n",
       "      <td>https://www.facebook.com/bblam.Fanpage</td>\n",
       "      <td>BBLAM</td>\n",
       "    </tr>\n",
       "  </tbody>\n",
       "</table>\n",
       "</div>"
      ],
      "text/plain": [
       "                                               title  page_like  \\\n",
       "0                         KTAM Smart Trade | Bangkok     500342   \n",
       "1  SCBAM บริษัทหลักทรัพย์จัดการกองทุน ไทยพาณิชย์ ...     137537   \n",
       "2                Krungsri Asset Management | Bangkok      80095   \n",
       "3                                Eastspring Thailand     107050   \n",
       "4                                   KAsset | Bangkok     295983   \n",
       "5                     MFC Asset Management | Bangkok      23678   \n",
       "6                                    BBLAM | Bangkok     164170   \n",
       "\n",
       "                                          page_url  fund_house  \n",
       "0          https://www.facebook.com/KTAMSmartTrade        KTAM  \n",
       "1          https://www.facebook.com/scbam.official       SCBAM  \n",
       "2  https://www.facebook.com/krungsriasset.official        KSAM  \n",
       "3     https://www.facebook.com/Eastspring.Thailand  EASTSPRING  \n",
       "4           https://www.facebook.com/kasikornasset      KASSET  \n",
       "5                https://www.facebook.com/mfcfunds         MFC  \n",
       "6           https://www.facebook.com/bblam.Fanpage       BBLAM  "
      ]
     },
     "execution_count": 23,
     "metadata": {},
     "output_type": "execute_result"
    }
   ],
   "source": [
    "df_page_cleaned"
   ]
  },
  {
   "cell_type": "markdown",
   "metadata": {},
   "source": [
    "# Clean post data"
   ]
  },
  {
   "cell_type": "code",
   "execution_count": 24,
   "metadata": {},
   "outputs": [],
   "source": [
    "df_post = pd.read_excel('dataset_facebook-posts-scraper_2025-04-30_08-25-49-186.xlsx')"
   ]
  },
  {
   "cell_type": "code",
   "execution_count": 25,
   "metadata": {},
   "outputs": [],
   "source": [
    "df_post['text_ocr_extracted'] = df_post['media/0/ocrText'].str.extract(r\"'([^']*)'\")"
   ]
  },
  {
   "cell_type": "code",
   "execution_count": 26,
   "metadata": {},
   "outputs": [],
   "source": [
    "df_post_cleaned = duckdb.query(\"\"\"\n",
    "select \n",
    "concat('A',postid) as post_id\n",
    ", cast(time as datetime) as datetime\n",
    ", strftime(cast(time as datetime), '%Y-%W') AS year_week\n",
    "\n",
    ", case \n",
    "when \"media/0/__typename\" = 'Video' then 'Video'\n",
    "when \"media/0/__typename\" = 'Photo' then 'Photo'\n",
    "when \"media/0/__typename\" = 'GenericAttachmentMedia' then 'Multiple media'\n",
    "else 'Text'\n",
    "end as media_type\n",
    "\n",
    ", case when likes is null then 0.0 else likes end as no_interaction\n",
    ", case when comments is null then 0.0 else comments end as no_comment\n",
    ", case when shares is null then 0.0 else shares end as no_share\n",
    "                          \n",
    ", case when text is null then text_ocr_extracted else text end as title\n",
    ", left(case when text is null then text_ocr_extracted else text end, 50) as title_50\n",
    "\n",
    ", url as post_url\n",
    "\n",
    "from df_post\n",
    "where \"media/0/__typename\" is null or \"media/0/__typename\" != 'ProfilePicAttachmentMedia'\n",
    "\"\"\").to_df()"
   ]
  },
  {
   "cell_type": "code",
   "execution_count": 27,
   "metadata": {},
   "outputs": [
    {
     "data": {
      "text/html": [
       "<div>\n",
       "<style scoped>\n",
       "    .dataframe tbody tr th:only-of-type {\n",
       "        vertical-align: middle;\n",
       "    }\n",
       "\n",
       "    .dataframe tbody tr th {\n",
       "        vertical-align: top;\n",
       "    }\n",
       "\n",
       "    .dataframe thead th {\n",
       "        text-align: right;\n",
       "    }\n",
       "</style>\n",
       "<table border=\"1\" class=\"dataframe\">\n",
       "  <thead>\n",
       "    <tr style=\"text-align: right;\">\n",
       "      <th></th>\n",
       "      <th>post_id</th>\n",
       "      <th>datetime</th>\n",
       "      <th>year_week</th>\n",
       "      <th>media_type</th>\n",
       "      <th>no_interaction</th>\n",
       "      <th>no_comment</th>\n",
       "      <th>no_share</th>\n",
       "      <th>title</th>\n",
       "      <th>title_50</th>\n",
       "      <th>post_url</th>\n",
       "    </tr>\n",
       "  </thead>\n",
       "  <tbody>\n",
       "    <tr>\n",
       "      <th>0</th>\n",
       "      <td>A1029408782560119</td>\n",
       "      <td>2025-01-02 03:00:07</td>\n",
       "      <td>2025-00</td>\n",
       "      <td>Text</td>\n",
       "      <td>8.0</td>\n",
       "      <td>3.0</td>\n",
       "      <td>0.0</td>\n",
       "      <td>⚠️ รู้หรือไม่? ⚠️ \\n80% ของบริษัทใน Fortune Gl...</td>\n",
       "      <td>⚠️ รู้หรือไม่? ⚠️ \\n80% ของบริษัทใน Fortune Gl...</td>\n",
       "      <td>https://www.facebook.com/kasikornasset/posts/p...</td>\n",
       "    </tr>\n",
       "    <tr>\n",
       "      <th>1</th>\n",
       "      <td>A1030140475820283</td>\n",
       "      <td>2025-01-03 03:00:05</td>\n",
       "      <td>2025-00</td>\n",
       "      <td>Text</td>\n",
       "      <td>42.0</td>\n",
       "      <td>2.0</td>\n",
       "      <td>8.0</td>\n",
       "      <td>New Year, New Me !!\\nมนุษย์เงินเดือน อยากย้ายง...</td>\n",
       "      <td>New Year, New Me !!\\nมนุษย์เงินเดือน อยากย้ายง...</td>\n",
       "      <td>https://www.facebook.com/kasikornasset/posts/p...</td>\n",
       "    </tr>\n",
       "    <tr>\n",
       "      <th>2</th>\n",
       "      <td>A1005583014933067</td>\n",
       "      <td>2025-01-03 04:00:10</td>\n",
       "      <td>2025-00</td>\n",
       "      <td>Text</td>\n",
       "      <td>8.0</td>\n",
       "      <td>2.0</td>\n",
       "      <td>2.0</td>\n",
       "      <td>บลจ.ไทยพาณิชย์ เปิดเสนอขายกองทุน Term Fund อาย...</td>\n",
       "      <td>บลจ.ไทยพาณิชย์ เปิดเสนอขายกองทุน Term Fund อาย...</td>\n",
       "      <td>https://www.facebook.com/scbam.official/posts/...</td>\n",
       "    </tr>\n",
       "    <tr>\n",
       "      <th>3</th>\n",
       "      <td>A1030341595800171</td>\n",
       "      <td>2025-01-03 10:00:08</td>\n",
       "      <td>2025-00</td>\n",
       "      <td>Text</td>\n",
       "      <td>45.0</td>\n",
       "      <td>6.0</td>\n",
       "      <td>5.0</td>\n",
       "      <td>⚠️ หุ้นไทย วันแรก -21 จุด ⚠️ \\nSET อาจดูไม่ค่อ...</td>\n",
       "      <td>⚠️ หุ้นไทย วันแรก -21 จุด ⚠️ \\nSET อาจดูไม่ค่อ...</td>\n",
       "      <td>https://www.facebook.com/kasikornasset/posts/p...</td>\n",
       "    </tr>\n",
       "    <tr>\n",
       "      <th>4</th>\n",
       "      <td>A1030380105796320</td>\n",
       "      <td>2025-01-03 11:00:06</td>\n",
       "      <td>2025-00</td>\n",
       "      <td>Text</td>\n",
       "      <td>15.0</td>\n",
       "      <td>0.0</td>\n",
       "      <td>1.0</td>\n",
       "      <td>เริ่มต้นปีใหม่ เพิ่มความมั่งคั่งให้พอร์ตลงทุนต...</td>\n",
       "      <td>เริ่มต้นปีใหม่ เพิ่มความมั่งคั่งให้พอร์ตลงทุนต...</td>\n",
       "      <td>https://www.facebook.com/kasikornasset/posts/p...</td>\n",
       "    </tr>\n",
       "    <tr>\n",
       "      <th>...</th>\n",
       "      <td>...</td>\n",
       "      <td>...</td>\n",
       "      <td>...</td>\n",
       "      <td>...</td>\n",
       "      <td>...</td>\n",
       "      <td>...</td>\n",
       "      <td>...</td>\n",
       "      <td>...</td>\n",
       "      <td>...</td>\n",
       "      <td>...</td>\n",
       "    </tr>\n",
       "    <tr>\n",
       "      <th>1095</th>\n",
       "      <td>A1123948063106190</td>\n",
       "      <td>2025-04-30 03:32:06</td>\n",
       "      <td>2025-17</td>\n",
       "      <td>Photo</td>\n",
       "      <td>12.0</td>\n",
       "      <td>0.0</td>\n",
       "      <td>4.0</td>\n",
       "      <td>ห้ามพลาดกับ 2 กองทุน IPO ใหม่❗️Thai ESGX จากกส...</td>\n",
       "      <td>ห้ามพลาดกับ 2 กองทุน IPO ใหม่❗️Thai ESGX จากกส...</td>\n",
       "      <td>https://www.facebook.com/kasikornasset/posts/p...</td>\n",
       "    </tr>\n",
       "    <tr>\n",
       "      <th>1096</th>\n",
       "      <td>A1102537441907628</td>\n",
       "      <td>2025-04-30 04:08:17</td>\n",
       "      <td>2025-17</td>\n",
       "      <td>Photo</td>\n",
       "      <td>3.0</td>\n",
       "      <td>0.0</td>\n",
       "      <td>0.0</td>\n",
       "      <td>สรุปภาวะตลาดประจำวัน | 30 เมษายน 2568\\n#ตลาดหุ...</td>\n",
       "      <td>สรุปภาวะตลาดประจำวัน | 30 เมษายน 2568\\n#ตลาดหุ...</td>\n",
       "      <td>https://www.facebook.com/mfcfunds/posts/pfbid0...</td>\n",
       "    </tr>\n",
       "    <tr>\n",
       "      <th>1097</th>\n",
       "      <td>A695261349559696</td>\n",
       "      <td>2025-04-30 04:53:12</td>\n",
       "      <td>2025-17</td>\n",
       "      <td>Video</td>\n",
       "      <td>1.0</td>\n",
       "      <td>0.0</td>\n",
       "      <td>0.0</td>\n",
       "      <td>ดอกเบี้ยขาลง ตลาดหุ้นก็ลงเยอะ กองทุนไหนมีโอกาส...</td>\n",
       "      <td>ดอกเบี้ยขาลง ตลาดหุ้นก็ลงเยอะ กองทุนไหนมีโอกาส...</td>\n",
       "      <td>https://www.facebook.com/reel/1054382436567956/</td>\n",
       "    </tr>\n",
       "    <tr>\n",
       "      <th>1098</th>\n",
       "      <td>A1230360845766201</td>\n",
       "      <td>2025-04-30 04:59:43</td>\n",
       "      <td>2025-17</td>\n",
       "      <td>Photo</td>\n",
       "      <td>4.0</td>\n",
       "      <td>0.0</td>\n",
       "      <td>2.0</td>\n",
       "      <td>PRIME Pick: สัปดาห์นี้ [ 28 เม.ย. - 2 พ.ค. 68 ...</td>\n",
       "      <td>PRIME Pick: สัปดาห์นี้ [ 28 เม.ย. - 2 พ.ค. 68 ...</td>\n",
       "      <td>https://www.facebook.com/Eastspring.Thailand/p...</td>\n",
       "    </tr>\n",
       "    <tr>\n",
       "      <th>1099</th>\n",
       "      <td>A695276172891547</td>\n",
       "      <td>2025-04-30 05:18:18</td>\n",
       "      <td>2025-17</td>\n",
       "      <td>Video</td>\n",
       "      <td>0.0</td>\n",
       "      <td>0.0</td>\n",
       "      <td>0.0</td>\n",
       "      <td>อยากเป็นเจ้าของอสังหาริมทรัพย์ทั่วโลกทั้ง Data...</td>\n",
       "      <td>อยากเป็นเจ้าของอสังหาริมทรัพย์ทั่วโลกทั้ง Data...</td>\n",
       "      <td>https://www.facebook.com/reel/1229872305153333/</td>\n",
       "    </tr>\n",
       "  </tbody>\n",
       "</table>\n",
       "<p>1100 rows × 10 columns</p>\n",
       "</div>"
      ],
      "text/plain": [
       "                post_id            datetime year_week media_type  \\\n",
       "0     A1029408782560119 2025-01-02 03:00:07   2025-00       Text   \n",
       "1     A1030140475820283 2025-01-03 03:00:05   2025-00       Text   \n",
       "2     A1005583014933067 2025-01-03 04:00:10   2025-00       Text   \n",
       "3     A1030341595800171 2025-01-03 10:00:08   2025-00       Text   \n",
       "4     A1030380105796320 2025-01-03 11:00:06   2025-00       Text   \n",
       "...                 ...                 ...       ...        ...   \n",
       "1095  A1123948063106190 2025-04-30 03:32:06   2025-17      Photo   \n",
       "1096  A1102537441907628 2025-04-30 04:08:17   2025-17      Photo   \n",
       "1097   A695261349559696 2025-04-30 04:53:12   2025-17      Video   \n",
       "1098  A1230360845766201 2025-04-30 04:59:43   2025-17      Photo   \n",
       "1099   A695276172891547 2025-04-30 05:18:18   2025-17      Video   \n",
       "\n",
       "      no_interaction  no_comment  no_share  \\\n",
       "0                8.0         3.0       0.0   \n",
       "1               42.0         2.0       8.0   \n",
       "2                8.0         2.0       2.0   \n",
       "3               45.0         6.0       5.0   \n",
       "4               15.0         0.0       1.0   \n",
       "...              ...         ...       ...   \n",
       "1095            12.0         0.0       4.0   \n",
       "1096             3.0         0.0       0.0   \n",
       "1097             1.0         0.0       0.0   \n",
       "1098             4.0         0.0       2.0   \n",
       "1099             0.0         0.0       0.0   \n",
       "\n",
       "                                                  title  \\\n",
       "0     ⚠️ รู้หรือไม่? ⚠️ \\n80% ของบริษัทใน Fortune Gl...   \n",
       "1     New Year, New Me !!\\nมนุษย์เงินเดือน อยากย้ายง...   \n",
       "2     บลจ.ไทยพาณิชย์ เปิดเสนอขายกองทุน Term Fund อาย...   \n",
       "3     ⚠️ หุ้นไทย วันแรก -21 จุด ⚠️ \\nSET อาจดูไม่ค่อ...   \n",
       "4     เริ่มต้นปีใหม่ เพิ่มความมั่งคั่งให้พอร์ตลงทุนต...   \n",
       "...                                                 ...   \n",
       "1095  ห้ามพลาดกับ 2 กองทุน IPO ใหม่❗️Thai ESGX จากกส...   \n",
       "1096  สรุปภาวะตลาดประจำวัน | 30 เมษายน 2568\\n#ตลาดหุ...   \n",
       "1097  ดอกเบี้ยขาลง ตลาดหุ้นก็ลงเยอะ กองทุนไหนมีโอกาส...   \n",
       "1098  PRIME Pick: สัปดาห์นี้ [ 28 เม.ย. - 2 พ.ค. 68 ...   \n",
       "1099  อยากเป็นเจ้าของอสังหาริมทรัพย์ทั่วโลกทั้ง Data...   \n",
       "\n",
       "                                               title_50  \\\n",
       "0     ⚠️ รู้หรือไม่? ⚠️ \\n80% ของบริษัทใน Fortune Gl...   \n",
       "1     New Year, New Me !!\\nมนุษย์เงินเดือน อยากย้ายง...   \n",
       "2     บลจ.ไทยพาณิชย์ เปิดเสนอขายกองทุน Term Fund อาย...   \n",
       "3     ⚠️ หุ้นไทย วันแรก -21 จุด ⚠️ \\nSET อาจดูไม่ค่อ...   \n",
       "4     เริ่มต้นปีใหม่ เพิ่มความมั่งคั่งให้พอร์ตลงทุนต...   \n",
       "...                                                 ...   \n",
       "1095  ห้ามพลาดกับ 2 กองทุน IPO ใหม่❗️Thai ESGX จากกส...   \n",
       "1096  สรุปภาวะตลาดประจำวัน | 30 เมษายน 2568\\n#ตลาดหุ...   \n",
       "1097  ดอกเบี้ยขาลง ตลาดหุ้นก็ลงเยอะ กองทุนไหนมีโอกาส...   \n",
       "1098  PRIME Pick: สัปดาห์นี้ [ 28 เม.ย. - 2 พ.ค. 68 ...   \n",
       "1099  อยากเป็นเจ้าของอสังหาริมทรัพย์ทั่วโลกทั้ง Data...   \n",
       "\n",
       "                                               post_url  \n",
       "0     https://www.facebook.com/kasikornasset/posts/p...  \n",
       "1     https://www.facebook.com/kasikornasset/posts/p...  \n",
       "2     https://www.facebook.com/scbam.official/posts/...  \n",
       "3     https://www.facebook.com/kasikornasset/posts/p...  \n",
       "4     https://www.facebook.com/kasikornasset/posts/p...  \n",
       "...                                                 ...  \n",
       "1095  https://www.facebook.com/kasikornasset/posts/p...  \n",
       "1096  https://www.facebook.com/mfcfunds/posts/pfbid0...  \n",
       "1097    https://www.facebook.com/reel/1054382436567956/  \n",
       "1098  https://www.facebook.com/Eastspring.Thailand/p...  \n",
       "1099    https://www.facebook.com/reel/1229872305153333/  \n",
       "\n",
       "[1100 rows x 10 columns]"
      ]
     },
     "execution_count": 27,
     "metadata": {},
     "output_type": "execute_result"
    }
   ],
   "source": [
    "df_post_cleaned"
   ]
  },
  {
   "cell_type": "code",
   "execution_count": 28,
   "metadata": {},
   "outputs": [],
   "source": [
    "df_post_cleaned = duckdb.query(\"\"\"\n",
    "select *\n",
    ", case\n",
    "when post_url like '%KTAMSmartTrade%' then 'KTAM'\n",
    "when post_url like '%scbam%' then 'SCBAM'\n",
    "when post_url like '%krungsri%' then 'KSAM'\n",
    "when post_url like '%Eastspring%' then 'EASTSPRING'\n",
    "when post_url like '%kasikornasset%' then 'KASSET'\n",
    "when post_url like '%mfc%' then 'MFC'\n",
    "when post_url like '%bblam%' then 'BBLAM'\n",
    "end fund_house\n",
    "from df_post_cleaned\n",
    "\"\"\").to_df()"
   ]
  },
  {
   "cell_type": "code",
   "execution_count": 29,
   "metadata": {},
   "outputs": [
    {
     "data": {
      "text/html": [
       "<div>\n",
       "<style scoped>\n",
       "    .dataframe tbody tr th:only-of-type {\n",
       "        vertical-align: middle;\n",
       "    }\n",
       "\n",
       "    .dataframe tbody tr th {\n",
       "        vertical-align: top;\n",
       "    }\n",
       "\n",
       "    .dataframe thead th {\n",
       "        text-align: right;\n",
       "    }\n",
       "</style>\n",
       "<table border=\"1\" class=\"dataframe\">\n",
       "  <thead>\n",
       "    <tr style=\"text-align: right;\">\n",
       "      <th></th>\n",
       "      <th>post_id</th>\n",
       "      <th>datetime</th>\n",
       "      <th>year_week</th>\n",
       "      <th>media_type</th>\n",
       "      <th>no_interaction</th>\n",
       "      <th>no_comment</th>\n",
       "      <th>no_share</th>\n",
       "      <th>title</th>\n",
       "      <th>title_50</th>\n",
       "      <th>post_url</th>\n",
       "      <th>fund_house</th>\n",
       "    </tr>\n",
       "  </thead>\n",
       "  <tbody>\n",
       "    <tr>\n",
       "      <th>0</th>\n",
       "      <td>A1029408782560119</td>\n",
       "      <td>2025-01-02 03:00:07</td>\n",
       "      <td>2025-00</td>\n",
       "      <td>Text</td>\n",
       "      <td>8.0</td>\n",
       "      <td>3.0</td>\n",
       "      <td>0.0</td>\n",
       "      <td>⚠️ รู้หรือไม่? ⚠️ \\n80% ของบริษัทใน Fortune Gl...</td>\n",
       "      <td>⚠️ รู้หรือไม่? ⚠️ \\n80% ของบริษัทใน Fortune Gl...</td>\n",
       "      <td>https://www.facebook.com/kasikornasset/posts/p...</td>\n",
       "      <td>KASSET</td>\n",
       "    </tr>\n",
       "    <tr>\n",
       "      <th>1</th>\n",
       "      <td>A1030140475820283</td>\n",
       "      <td>2025-01-03 03:00:05</td>\n",
       "      <td>2025-00</td>\n",
       "      <td>Text</td>\n",
       "      <td>42.0</td>\n",
       "      <td>2.0</td>\n",
       "      <td>8.0</td>\n",
       "      <td>New Year, New Me !!\\nมนุษย์เงินเดือน อยากย้ายง...</td>\n",
       "      <td>New Year, New Me !!\\nมนุษย์เงินเดือน อยากย้ายง...</td>\n",
       "      <td>https://www.facebook.com/kasikornasset/posts/p...</td>\n",
       "      <td>KASSET</td>\n",
       "    </tr>\n",
       "    <tr>\n",
       "      <th>2</th>\n",
       "      <td>A1005583014933067</td>\n",
       "      <td>2025-01-03 04:00:10</td>\n",
       "      <td>2025-00</td>\n",
       "      <td>Text</td>\n",
       "      <td>8.0</td>\n",
       "      <td>2.0</td>\n",
       "      <td>2.0</td>\n",
       "      <td>บลจ.ไทยพาณิชย์ เปิดเสนอขายกองทุน Term Fund อาย...</td>\n",
       "      <td>บลจ.ไทยพาณิชย์ เปิดเสนอขายกองทุน Term Fund อาย...</td>\n",
       "      <td>https://www.facebook.com/scbam.official/posts/...</td>\n",
       "      <td>SCBAM</td>\n",
       "    </tr>\n",
       "    <tr>\n",
       "      <th>3</th>\n",
       "      <td>A1030341595800171</td>\n",
       "      <td>2025-01-03 10:00:08</td>\n",
       "      <td>2025-00</td>\n",
       "      <td>Text</td>\n",
       "      <td>45.0</td>\n",
       "      <td>6.0</td>\n",
       "      <td>5.0</td>\n",
       "      <td>⚠️ หุ้นไทย วันแรก -21 จุด ⚠️ \\nSET อาจดูไม่ค่อ...</td>\n",
       "      <td>⚠️ หุ้นไทย วันแรก -21 จุด ⚠️ \\nSET อาจดูไม่ค่อ...</td>\n",
       "      <td>https://www.facebook.com/kasikornasset/posts/p...</td>\n",
       "      <td>KASSET</td>\n",
       "    </tr>\n",
       "    <tr>\n",
       "      <th>4</th>\n",
       "      <td>A1030380105796320</td>\n",
       "      <td>2025-01-03 11:00:06</td>\n",
       "      <td>2025-00</td>\n",
       "      <td>Text</td>\n",
       "      <td>15.0</td>\n",
       "      <td>0.0</td>\n",
       "      <td>1.0</td>\n",
       "      <td>เริ่มต้นปีใหม่ เพิ่มความมั่งคั่งให้พอร์ตลงทุนต...</td>\n",
       "      <td>เริ่มต้นปีใหม่ เพิ่มความมั่งคั่งให้พอร์ตลงทุนต...</td>\n",
       "      <td>https://www.facebook.com/kasikornasset/posts/p...</td>\n",
       "      <td>KASSET</td>\n",
       "    </tr>\n",
       "  </tbody>\n",
       "</table>\n",
       "</div>"
      ],
      "text/plain": [
       "             post_id            datetime year_week media_type  no_interaction  \\\n",
       "0  A1029408782560119 2025-01-02 03:00:07   2025-00       Text             8.0   \n",
       "1  A1030140475820283 2025-01-03 03:00:05   2025-00       Text            42.0   \n",
       "2  A1005583014933067 2025-01-03 04:00:10   2025-00       Text             8.0   \n",
       "3  A1030341595800171 2025-01-03 10:00:08   2025-00       Text            45.0   \n",
       "4  A1030380105796320 2025-01-03 11:00:06   2025-00       Text            15.0   \n",
       "\n",
       "   no_comment  no_share                                              title  \\\n",
       "0         3.0       0.0  ⚠️ รู้หรือไม่? ⚠️ \\n80% ของบริษัทใน Fortune Gl...   \n",
       "1         2.0       8.0  New Year, New Me !!\\nมนุษย์เงินเดือน อยากย้ายง...   \n",
       "2         2.0       2.0  บลจ.ไทยพาณิชย์ เปิดเสนอขายกองทุน Term Fund อาย...   \n",
       "3         6.0       5.0  ⚠️ หุ้นไทย วันแรก -21 จุด ⚠️ \\nSET อาจดูไม่ค่อ...   \n",
       "4         0.0       1.0  เริ่มต้นปีใหม่ เพิ่มความมั่งคั่งให้พอร์ตลงทุนต...   \n",
       "\n",
       "                                            title_50  \\\n",
       "0  ⚠️ รู้หรือไม่? ⚠️ \\n80% ของบริษัทใน Fortune Gl...   \n",
       "1  New Year, New Me !!\\nมนุษย์เงินเดือน อยากย้ายง...   \n",
       "2  บลจ.ไทยพาณิชย์ เปิดเสนอขายกองทุน Term Fund อาย...   \n",
       "3  ⚠️ หุ้นไทย วันแรก -21 จุด ⚠️ \\nSET อาจดูไม่ค่อ...   \n",
       "4  เริ่มต้นปีใหม่ เพิ่มความมั่งคั่งให้พอร์ตลงทุนต...   \n",
       "\n",
       "                                            post_url fund_house  \n",
       "0  https://www.facebook.com/kasikornasset/posts/p...     KASSET  \n",
       "1  https://www.facebook.com/kasikornasset/posts/p...     KASSET  \n",
       "2  https://www.facebook.com/scbam.official/posts/...      SCBAM  \n",
       "3  https://www.facebook.com/kasikornasset/posts/p...     KASSET  \n",
       "4  https://www.facebook.com/kasikornasset/posts/p...     KASSET  "
      ]
     },
     "execution_count": 29,
     "metadata": {},
     "output_type": "execute_result"
    }
   ],
   "source": [
    "df_post_cleaned.head()"
   ]
  },
  {
   "cell_type": "markdown",
   "metadata": {},
   "source": [
    "# Set up API"
   ]
  },
  {
   "cell_type": "code",
   "execution_count": null,
   "metadata": {},
   "outputs": [],
   "source": [
    "OPENAI_API_KEY = ''\n",
    "llm_model = 'gpt-4.1-2025-04-14'\n",
    "llm = ChatOpenAI(openai_api_key=OPENAI_API_KEY, model=llm_model, temperature=0)"
   ]
  },
  {
   "cell_type": "markdown",
   "metadata": {},
   "source": [
    "# Tagging AI"
   ]
  },
  {
   "cell_type": "code",
   "execution_count": 31,
   "metadata": {},
   "outputs": [],
   "source": [
    "template_tagging = \"\"\"\n",
    "    You are tasked with tagging a post based on the given schema.\n",
    "    Please follow 'TaggingSchema'\n",
    "    **Post**: {post_text}\n",
    "\"\"\""
   ]
  },
  {
   "cell_type": "code",
   "execution_count": 32,
   "metadata": {},
   "outputs": [],
   "source": [
    "prompt_tagging = ChatPromptTemplate.from_template(template_tagging)"
   ]
  },
  {
   "cell_type": "code",
   "execution_count": 33,
   "metadata": {},
   "outputs": [],
   "source": [
    "TaggingSchema = {\n",
    "    \"title\": \"TaggingSchema\",\n",
    "    \"type\": \"object\",\n",
    "    \"description\": \"Schema for tagging post category, extracting fund codes, cleaning text, and extracting important keywords.\",\n",
    "    \"properties\": {\n",
    "        \"post_category\": {\n",
    "            \"type\": \"string\",\n",
    "            \"description\": \"\"\"\n",
    "            Classify the post into one of the predefined categories.\n",
    "            Choose only one category from the list below and do not create a new category:\n",
    "            - News\n",
    "            - Product Recommendation\n",
    "            - Special Day\n",
    "            - Application\n",
    "            - Announcement\n",
    "            If no suitable category is found, default to 'Uncategorized'.\n",
    "            \"\"\",\n",
    "            \"enum\": [\"News\", \"Product Recommendation\", \"Special Day\", \"Application\"],\n",
    "            \"default\": \"Uncategorized\"\n",
    "        },\n",
    "        \"fund_code\": {\n",
    "            \"type\": \"array\",\n",
    "            \"description\": \"\"\"\n",
    "            Extract an array of fund codes mentioned in the post.\n",
    "            Each fund code must be a string.\n",
    "            Important:\n",
    "            - Only include valid fund codes (e.g., mutual fund IDs).\n",
    "            - Do not include fund types (e.g., 'Equity Fund') in this field.\n",
    "            \"\"\",\n",
    "            \"items\": {\n",
    "                \"type\": \"string\"\n",
    "            },\n",
    "            \"default\": []\n",
    "        },\n",
    "        \"important_keywords\": {\n",
    "            \"type\": \"array\",\n",
    "            \"description\": \"\"\"\n",
    "            Extract an array of important keywords from the post.\n",
    "            Important:\n",
    "            - Not include valid fund codes (e.g., mutual fund IDs).\n",
    "            - Keywords should be nouns or noun phrases relevant to the post content (e.g., 'promotion', 'new fund', 'NAV update').\n",
    "            - Focus on product names, event names, or other critical terms.\n",
    "            \"\"\",\n",
    "            \"items\": {\n",
    "                \"type\": \"string\"\n",
    "            },\n",
    "            \"default\": []\n",
    "        }\n",
    "    },\n",
    "    \"required\": [\"post_category\", \"fund_code\", \"important_keywords\"]\n",
    "}"
   ]
  },
  {
   "cell_type": "code",
   "execution_count": 34,
   "metadata": {},
   "outputs": [],
   "source": [
    "llm_structured_tagging = llm.with_structured_output(TaggingSchema)"
   ]
  },
  {
   "cell_type": "code",
   "execution_count": 35,
   "metadata": {},
   "outputs": [],
   "source": [
    "chain_tagging = prompt_tagging | llm_structured_tagging"
   ]
  },
  {
   "cell_type": "code",
   "execution_count": 36,
   "metadata": {},
   "outputs": [],
   "source": [
    "def tagging_extraction(user_input, post_id):\n",
    "    try:\n",
    "        response = chain_tagging.invoke(user_input)\n",
    "\n",
    "        if not isinstance(response, dict):\n",
    "            return None\n",
    "\n",
    "        response[\"post_id\"] = post_id\n",
    "        return response\n",
    "\n",
    "    except Exception:\n",
    "        return None"
   ]
  },
  {
   "cell_type": "code",
   "execution_count": 37,
   "metadata": {},
   "outputs": [],
   "source": [
    "test_input = \"\"\"กองทุนใหม่ SCBFLOAT1YC โอกาสเติบโตกับกลยุทธ์ลงทุนลดเสี่ยงขาดทุนเงินต้น จากตราสารหนี้คุณภาพ พร้อมสร้างผลตอบแทนแบบลอยตัวตามการปรับตัวของ THOR\n",
    "\n",
    "เสนอขายครั้งแรก: 10 เม.ย. 68 - 22 เม.ย. 68 \n",
    "เสนอขายผ่านช่องทาง SCB, SCBAM และ InnovestX เท่านั้น \n",
    "ห้ามขายผู้ลงทุนรายย่อย ระยะเวลาลงทุน 1 ปี ลงทุนขั้นต่ำ 500,000 บาท\n",
    "\n",
    "กลยุทธ์การลงทุนที่พร้อมดูแลเงินต้น \n",
    "ส่วนที่ 1: ลงทุนตราสารหนี้ และเงินฝากคุณภาพดี ระดับ Investment Grade รับเงินลงทุนคืนพร้อมดอกเบี้ยเมื่อครบกำหนด\n",
    "\n",
    "สร้างโอกาสรับผลตอบแทนเพิ่มขึ้น \n",
    "ส่วนที่ 2: ทำธุรกรรม Interest Rate Swap อ้างอิงกับอัตราดอกเบี้ย THOR โดยนักลงทุนจะได้รับผลตอบแทนในลักษณะลอยตัวตามการปรับตัวของ THOR (จ่ายผลตอบแทนเมื่อครบอายุโครงการ)\n",
    "\n",
    "ข้อมูลกองทุนเพิ่มเติม : https://scbam.info/4juYIt9\n",
    "SCBAM Client Relations 0 2777 7777\n",
    "\n",
    "Complex Fund ผู้ลงทุนไม่สามารถขายคืนหน่วยลงทุนในช่วงเวลา 1 ปีได้ ดังนั้น หากมีปัจจัยลบที่ส่งผลกระทบต่อการลงทุนดังกล่าวผู้ลงทุนอาจสูญเสียเงินลงทุนจำนวนมาก\n",
    "• กองทุนเปิดไทยพาณิชย์ Floating Rate Complex Return 1YC ห้ามขายผู้ลงทุนรายย่อย (SCBFLOAT1YC) ความเสี่ยง 4 เสี่ยงปานกลางค่อนข้างต่ำ • การลงทุนในผลิตภัณฑ์ในตลาดทุนที่มีความเสี่ยงสูงหรือมีความซับซ้อนซึ่งมีปัจจัยอ้างอิง มีความแตกต่างจากการลงทุนในปัจจัยอ้างอิงโดยตรง จึงอาจทำให้ราคาของผลิตภัณฑ์ในตลาดทุนดังกล่าว มีความผันผวนแตกต่างจากราคาของปัจจัยอ้างอิงได้ • กองทุนยังคงมีความเสี่ยงผิดชำระหนี้ (default risk) ที่เกิดขึ้นจากการผิดชำระหนี้ของผู้ออกตราสาร/เงินฝาก ซึ่งอาจส่งผลให้ผู้ลงทุน ไม่ได้รับเงินต้นคืนเต็มจำนวนได้ /ราคาของสัญญา ขึ้นอยู่กับการตกลงกันระหว่างคู่สัญญา กองทุนยังคงมีความเสี่ยงผิดนัดชำระหนี้ (default risk) ที่เกิดขึ้นจากการผิดนัดชำระหนี้ของผู้ออกสัญญา/ คู่สัญญา ซึ่งอาจส่งผลให้ผู้ลงทุน ไม่ได้รับผลตอบแทนจากสัญญาได้ บริษัทจัดการขอสงวนสิทธิอาจเปลี่ยนแปลงผลตอบแทนดังกล่าวได้หากสภาวะตลาดมีการเปลี่ยนแปลง โดยไม่ต่ำกว่าอัตรา ที่ระบุไว้ในโครงการ (บริษัทจัดการจะระบุอัตราที่แน่นอนในหนังสือชี้ชวนส่วนสรุปข้อมูลสำคัญ Factsheet ในช่วงเสนอขายครั้งแรก (IPO)) • กองทุนมีความเสี่ยงสูง หรือซับซ้อน ผู้ลงทุนควร ทำความเข้าใจลักษณะสินค้า เงื่อนไขผลตอบแทน และความเสี่ยงที่เกี่ยวข้อง รวมถึงควรขอคำแนะนำเพิ่มเติมจากผู้ประกอบธุรกิจก่อนตัดสินใจลงทุน • สอบถามรายละเอียด เพิ่มเติม และขอรับหนังสือชี้ชวนได้ที่ธนาคารไทยพาณิชย์ หรือบลจ.ไทยพาณิชย์ โทร. 02-777-7777 เว็บไซต์ scbam.com  #SCBAM #YourTrustedPartner\n",
    "\"\"\"\n",
    "test_id = 'dfweg23532f'"
   ]
  },
  {
   "cell_type": "code",
   "execution_count": 38,
   "metadata": {},
   "outputs": [
    {
     "data": {
      "text/plain": [
       "{'post_category': 'Product Recommendation',\n",
       " 'fund_code': ['SCBFLOAT1YC'],\n",
       " 'important_keywords': ['กองทุนใหม่',\n",
       "  'ตราสารหนี้คุณภาพ',\n",
       "  'ผลตอบแทนลอยตัว',\n",
       "  'THOR',\n",
       "  'Interest Rate Swap',\n",
       "  'SCBAM',\n",
       "  'Floating Rate Complex Return 1YC',\n",
       "  'เสนอขายครั้งแรก',\n",
       "  'ลงทุนขั้นต่ำ',\n",
       "  'ความเสี่ยงปานกลางค่อนข้างต่ำ'],\n",
       " 'post_id': 'dfweg23532f'}"
      ]
     },
     "execution_count": 38,
     "metadata": {},
     "output_type": "execute_result"
    }
   ],
   "source": [
    "tagging_extraction(user_input=test_input, post_id=test_id)"
   ]
  },
  {
   "cell_type": "markdown",
   "metadata": {},
   "source": [
    "# Get tagging"
   ]
  },
  {
   "cell_type": "code",
   "execution_count": 39,
   "metadata": {},
   "outputs": [],
   "source": [
    "tagging_results = []"
   ]
  },
  {
   "cell_type": "code",
   "execution_count": 40,
   "metadata": {},
   "outputs": [
    {
     "name": "stderr",
     "output_type": "stream",
     "text": [
      "Analyzing Mutual Fund Posts: 100%|██████████| 1100/1100 [30:21<00:00,  1.66s/it] \n"
     ]
    }
   ],
   "source": [
    "for idx, row in tqdm(df_post_cleaned.iterrows(), total=len(df_post_cleaned), desc=\"Analyzing Mutual Fund Posts\"):\n",
    "    title = row['title']\n",
    "    post_id = row['post_id']\n",
    "    \n",
    "    result = tagging_extraction(user_input=title, post_id=post_id)\n",
    "    if result:tagging_results.append(result)"
   ]
  },
  {
   "cell_type": "code",
   "execution_count": 57,
   "metadata": {},
   "outputs": [],
   "source": [
    "df_tagged_full = pd.DataFrame(tagging_results)\n",
    "df_tagged_1 = df_tagged_full\n",
    "df_tagged_2 = df_tagged_full[['post_id', 'fund_code']].explode('fund_code').dropna()"
   ]
  },
  {
   "cell_type": "markdown",
   "metadata": {},
   "source": [
    "# Fund type AI"
   ]
  },
  {
   "cell_type": "code",
   "execution_count": 42,
   "metadata": {},
   "outputs": [],
   "source": [
    "template_fundtype = \"\"\"\n",
    "    You are tasked with tagging a post based on the given schema.\n",
    "    Please follow 'FundtypeSchema'\n",
    "    **Post**: {post_text}\n",
    "\"\"\""
   ]
  },
  {
   "cell_type": "code",
   "execution_count": 43,
   "metadata": {},
   "outputs": [],
   "source": [
    "prompt_fundtype = ChatPromptTemplate.from_template(template_fundtype)"
   ]
  },
  {
   "cell_type": "code",
   "execution_count": 44,
   "metadata": {},
   "outputs": [],
   "source": [
    "FundtypeSchema = {\n",
    "    \"title\": \"FundtypeSchema\",\n",
    "    \"type\": \"object\",\n",
    "    \"description\": \"Schema for extracting a single fund type from fund codes mentioned in the post. Fund types are classified based on naming patterns and known identifiers.\",\n",
    "    \"properties\": {\n",
    "        \"fund_type\": {\n",
    "            \"type\": \"string\",\n",
    "            \"description\": \"\"\"\n",
    "            Extract one fund type based on the fund code mentioned in the post.\n",
    "\n",
    "            Choose only one from the list below:\n",
    "            - Money Market Fund\n",
    "            - Fixed Income Fund\n",
    "            - Term Fund\n",
    "            - Balance Fund\n",
    "            - Thai Equity Fund\n",
    "            - Index Fund\n",
    "            - Foreign Equity Fund\n",
    "            - Alternative Fund\n",
    "            - SSF Fund\n",
    "            - RMF Fund\n",
    "            - LTF Fund\n",
    "            - Thai ESG Fund\n",
    "\n",
    "            Term Fund is hardest one if fund code contain duration such as 1Y 6M 24M that is Term Fund for sure.\n",
    "            If multiple fund types are mentioned, return the most specific one based on naming conventions.\n",
    "            If no match is found, return \"Uncategorized\".\n",
    "            \"\"\",\n",
    "            \"enum\": [\n",
    "                \"Money Market Fund\",\n",
    "                \"Fixed Income Fund\",\n",
    "                \"Term Fund\",\n",
    "                \"Balance Fund\",\n",
    "                \"Thai Equity Fund\",\n",
    "                \"Foreign Equity Fund\",\n",
    "                \"Alternative Fund\",\n",
    "                \"SSF Fund\",\n",
    "                \"RMF Fund\",\n",
    "                \"LTF Fund\",\n",
    "                \"Thai ESG Fund\",\n",
    "                \"Uncategorized\"\n",
    "            ],\n",
    "            \"default\": \"Uncategorized\"\n",
    "        }\n",
    "    },\n",
    "    \"required\": [\"fund_type\"]\n",
    "}"
   ]
  },
  {
   "cell_type": "code",
   "execution_count": 45,
   "metadata": {},
   "outputs": [],
   "source": [
    "llm_structured_fundtype = llm.with_structured_output(FundtypeSchema)"
   ]
  },
  {
   "cell_type": "code",
   "execution_count": 46,
   "metadata": {},
   "outputs": [],
   "source": [
    "chain_fundtype = prompt_fundtype | llm_structured_fundtype"
   ]
  },
  {
   "cell_type": "code",
   "execution_count": 47,
   "metadata": {},
   "outputs": [],
   "source": [
    "def fundtype_extraction(user_input, post_id):\n",
    "    try:\n",
    "        response = chain_fundtype.invoke(user_input)\n",
    "\n",
    "        if not isinstance(response, dict):\n",
    "            return None\n",
    "\n",
    "        response[\"post_id\"] = post_id\n",
    "        response[\"fund_code\"] = user_input\n",
    "        return response\n",
    "\n",
    "    except Exception:\n",
    "        return None"
   ]
  },
  {
   "cell_type": "code",
   "execution_count": 48,
   "metadata": {},
   "outputs": [],
   "source": [
    "test_input = 'SCBFLOAT1YC'\n",
    "post_id = 'afewf'"
   ]
  },
  {
   "cell_type": "code",
   "execution_count": 49,
   "metadata": {},
   "outputs": [
    {
     "data": {
      "text/plain": [
       "{'fund_type': 'Term Fund', 'post_id': 'afewf', 'fund_code': 'SCBFLOAT1YC'}"
      ]
     },
     "execution_count": 49,
     "metadata": {},
     "output_type": "execute_result"
    }
   ],
   "source": [
    "fundtype_extraction(user_input=test_input, post_id=post_id)"
   ]
  },
  {
   "cell_type": "markdown",
   "metadata": {},
   "source": [
    "# Get fundtype"
   ]
  },
  {
   "cell_type": "code",
   "execution_count": 50,
   "metadata": {},
   "outputs": [],
   "source": [
    "fundtype_results = []"
   ]
  },
  {
   "cell_type": "code",
   "execution_count": 51,
   "metadata": {},
   "outputs": [
    {
     "data": {
      "text/html": [
       "<div>\n",
       "<style scoped>\n",
       "    .dataframe tbody tr th:only-of-type {\n",
       "        vertical-align: middle;\n",
       "    }\n",
       "\n",
       "    .dataframe tbody tr th {\n",
       "        vertical-align: top;\n",
       "    }\n",
       "\n",
       "    .dataframe thead th {\n",
       "        text-align: right;\n",
       "    }\n",
       "</style>\n",
       "<table border=\"1\" class=\"dataframe\">\n",
       "  <thead>\n",
       "    <tr style=\"text-align: right;\">\n",
       "      <th></th>\n",
       "      <th>post_id</th>\n",
       "      <th>fund_code</th>\n",
       "    </tr>\n",
       "  </thead>\n",
       "  <tbody>\n",
       "    <tr>\n",
       "      <th>8</th>\n",
       "      <td>A1008518471306188</td>\n",
       "      <td>SCBS&amp;P500</td>\n",
       "    </tr>\n",
       "    <tr>\n",
       "      <th>8</th>\n",
       "      <td>A1008518471306188</td>\n",
       "      <td>SCBNDQA</td>\n",
       "    </tr>\n",
       "    <tr>\n",
       "      <th>11</th>\n",
       "      <td>A1009271594564209</td>\n",
       "      <td>SCBLT1FUND</td>\n",
       "    </tr>\n",
       "    <tr>\n",
       "      <th>11</th>\n",
       "      <td>A1009271594564209</td>\n",
       "      <td>SCBLT2FUND</td>\n",
       "    </tr>\n",
       "    <tr>\n",
       "      <th>11</th>\n",
       "      <td>A1009271594564209</td>\n",
       "      <td>SCBLT3FUND</td>\n",
       "    </tr>\n",
       "    <tr>\n",
       "      <th>...</th>\n",
       "      <td>...</td>\n",
       "      <td>...</td>\n",
       "    </tr>\n",
       "    <tr>\n",
       "      <th>1097</th>\n",
       "      <td>A695261349559696</td>\n",
       "      <td>KFINFRA</td>\n",
       "    </tr>\n",
       "    <tr>\n",
       "      <th>1098</th>\n",
       "      <td>A1230360845766201</td>\n",
       "      <td>ES-GINFRA-A</td>\n",
       "    </tr>\n",
       "    <tr>\n",
       "      <th>1098</th>\n",
       "      <td>A1230360845766201</td>\n",
       "      <td>ES-NDQPIN-UH</td>\n",
       "    </tr>\n",
       "    <tr>\n",
       "      <th>1098</th>\n",
       "      <td>A1230360845766201</td>\n",
       "      <td>ES-INDAE</td>\n",
       "    </tr>\n",
       "    <tr>\n",
       "      <th>1099</th>\n",
       "      <td>A695276172891547</td>\n",
       "      <td>KFGPROP</td>\n",
       "    </tr>\n",
       "  </tbody>\n",
       "</table>\n",
       "<p>878 rows × 2 columns</p>\n",
       "</div>"
      ],
      "text/plain": [
       "                post_id     fund_code\n",
       "8     A1008518471306188     SCBS&P500\n",
       "8     A1008518471306188       SCBNDQA\n",
       "11    A1009271594564209    SCBLT1FUND\n",
       "11    A1009271594564209    SCBLT2FUND\n",
       "11    A1009271594564209    SCBLT3FUND\n",
       "...                 ...           ...\n",
       "1097   A695261349559696       KFINFRA\n",
       "1098  A1230360845766201   ES-GINFRA-A\n",
       "1098  A1230360845766201  ES-NDQPIN-UH\n",
       "1098  A1230360845766201      ES-INDAE\n",
       "1099   A695276172891547       KFGPROP\n",
       "\n",
       "[878 rows x 2 columns]"
      ]
     },
     "execution_count": 51,
     "metadata": {},
     "output_type": "execute_result"
    }
   ],
   "source": [
    "df_tagged_2"
   ]
  },
  {
   "cell_type": "code",
   "execution_count": 52,
   "metadata": {},
   "outputs": [
    {
     "name": "stderr",
     "output_type": "stream",
     "text": [
      "Analyzing Mutual Fund Posts: 100%|██████████| 878/878 [11:32<00:00,  1.27it/s]\n"
     ]
    }
   ],
   "source": [
    "for idx, row in tqdm(df_tagged_2.iterrows(), total=len(df_tagged_2), desc=\"Analyzing Mutual Fund Posts\"):\n",
    "    title = row['fund_code']\n",
    "    post_id = row['post_id']\n",
    "    \n",
    "    result = fundtype_extraction(user_input=title, post_id=post_id)\n",
    "    if result:fundtype_results.append(result)"
   ]
  },
  {
   "cell_type": "code",
   "execution_count": 53,
   "metadata": {},
   "outputs": [],
   "source": [
    "df_tagged_3 = pd.DataFrame(fundtype_results)"
   ]
  },
  {
   "cell_type": "code",
   "execution_count": 54,
   "metadata": {},
   "outputs": [
    {
     "data": {
      "text/html": [
       "<div>\n",
       "<style scoped>\n",
       "    .dataframe tbody tr th:only-of-type {\n",
       "        vertical-align: middle;\n",
       "    }\n",
       "\n",
       "    .dataframe tbody tr th {\n",
       "        vertical-align: top;\n",
       "    }\n",
       "\n",
       "    .dataframe thead th {\n",
       "        text-align: right;\n",
       "    }\n",
       "</style>\n",
       "<table border=\"1\" class=\"dataframe\">\n",
       "  <thead>\n",
       "    <tr style=\"text-align: right;\">\n",
       "      <th></th>\n",
       "      <th>fund_type</th>\n",
       "      <th>post_id</th>\n",
       "      <th>fund_code</th>\n",
       "    </tr>\n",
       "  </thead>\n",
       "  <tbody>\n",
       "    <tr>\n",
       "      <th>0</th>\n",
       "      <td>Index Fund</td>\n",
       "      <td>A1008518471306188</td>\n",
       "      <td>SCBS&amp;P500</td>\n",
       "    </tr>\n",
       "    <tr>\n",
       "      <th>1</th>\n",
       "      <td>Fixed Income Fund</td>\n",
       "      <td>A1008518471306188</td>\n",
       "      <td>SCBNDQA</td>\n",
       "    </tr>\n",
       "    <tr>\n",
       "      <th>2</th>\n",
       "      <td>LTF Fund</td>\n",
       "      <td>A1009271594564209</td>\n",
       "      <td>SCBLT1FUND</td>\n",
       "    </tr>\n",
       "    <tr>\n",
       "      <th>3</th>\n",
       "      <td>LTF Fund</td>\n",
       "      <td>A1009271594564209</td>\n",
       "      <td>SCBLT2FUND</td>\n",
       "    </tr>\n",
       "    <tr>\n",
       "      <th>4</th>\n",
       "      <td>LTF Fund</td>\n",
       "      <td>A1009271594564209</td>\n",
       "      <td>SCBLT3FUND</td>\n",
       "    </tr>\n",
       "    <tr>\n",
       "      <th>...</th>\n",
       "      <td>...</td>\n",
       "      <td>...</td>\n",
       "      <td>...</td>\n",
       "    </tr>\n",
       "    <tr>\n",
       "      <th>873</th>\n",
       "      <td>Alternative Fund</td>\n",
       "      <td>A695261349559696</td>\n",
       "      <td>KFINFRA</td>\n",
       "    </tr>\n",
       "    <tr>\n",
       "      <th>874</th>\n",
       "      <td>Alternative Fund</td>\n",
       "      <td>A1230360845766201</td>\n",
       "      <td>ES-GINFRA-A</td>\n",
       "    </tr>\n",
       "    <tr>\n",
       "      <th>875</th>\n",
       "      <td>Foreign Equity Fund</td>\n",
       "      <td>A1230360845766201</td>\n",
       "      <td>ES-NDQPIN-UH</td>\n",
       "    </tr>\n",
       "    <tr>\n",
       "      <th>876</th>\n",
       "      <td>Foreign Equity Fund</td>\n",
       "      <td>A1230360845766201</td>\n",
       "      <td>ES-INDAE</td>\n",
       "    </tr>\n",
       "    <tr>\n",
       "      <th>877</th>\n",
       "      <td>Alternative Fund</td>\n",
       "      <td>A695276172891547</td>\n",
       "      <td>KFGPROP</td>\n",
       "    </tr>\n",
       "  </tbody>\n",
       "</table>\n",
       "<p>878 rows × 3 columns</p>\n",
       "</div>"
      ],
      "text/plain": [
       "               fund_type            post_id     fund_code\n",
       "0             Index Fund  A1008518471306188     SCBS&P500\n",
       "1      Fixed Income Fund  A1008518471306188       SCBNDQA\n",
       "2               LTF Fund  A1009271594564209    SCBLT1FUND\n",
       "3               LTF Fund  A1009271594564209    SCBLT2FUND\n",
       "4               LTF Fund  A1009271594564209    SCBLT3FUND\n",
       "..                   ...                ...           ...\n",
       "873     Alternative Fund   A695261349559696       KFINFRA\n",
       "874     Alternative Fund  A1230360845766201   ES-GINFRA-A\n",
       "875  Foreign Equity Fund  A1230360845766201  ES-NDQPIN-UH\n",
       "876  Foreign Equity Fund  A1230360845766201      ES-INDAE\n",
       "877     Alternative Fund   A695276172891547       KFGPROP\n",
       "\n",
       "[878 rows x 3 columns]"
      ]
     },
     "execution_count": 54,
     "metadata": {},
     "output_type": "execute_result"
    }
   ],
   "source": [
    "df_tagged_3"
   ]
  },
  {
   "cell_type": "markdown",
   "metadata": {},
   "source": [
    "# Export"
   ]
  },
  {
   "cell_type": "code",
   "execution_count": null,
   "metadata": {},
   "outputs": [],
   "source": [
    "df_final_1 = duckdb.query(\"\"\"\n",
    "select a.*\n",
    ", b.post_category, b.important_keywords, b.fund_code as fund_code_list\n",
    ", c.page_like\n",
    "from df_post_cleaned a\n",
    "inner join df_tagged_1 b\n",
    "on a.post_id = b.post_id\n",
    "inner join df_page_cleaned c\n",
    "on a.fund_house = c.fund_house\n",
    "where b.post_category is not null\n",
    "\"\"\").to_df()"
   ]
  },
  {
   "cell_type": "code",
   "execution_count": 62,
   "metadata": {},
   "outputs": [],
   "source": [
    "df_final_1.to_excel('tagging.xlsx', index=False)"
   ]
  },
  {
   "cell_type": "code",
   "execution_count": 63,
   "metadata": {},
   "outputs": [],
   "source": [
    "df_final_2 = duckdb.query(\"\"\"\n",
    "select a.*\n",
    "from df_tagged_3 a\n",
    "inner join (select distinct post_id from df_final_1) b\n",
    "on a.post_id = b.post_id\n",
    "\"\"\").to_df()"
   ]
  },
  {
   "cell_type": "code",
   "execution_count": 64,
   "metadata": {},
   "outputs": [],
   "source": [
    "df_final_2.to_excel('fund_type.xlsx', index=False)"
   ]
  },
  {
   "cell_type": "code",
   "execution_count": null,
   "metadata": {},
   "outputs": [],
   "source": []
  },
  {
   "cell_type": "code",
   "execution_count": null,
   "metadata": {},
   "outputs": [],
   "source": []
  }
 ],
 "metadata": {
  "kernelspec": {
   "display_name": "base",
   "language": "python",
   "name": "python3"
  },
  "language_info": {
   "codemirror_mode": {
    "name": "ipython",
    "version": 3
   },
   "file_extension": ".py",
   "mimetype": "text/x-python",
   "name": "python",
   "nbconvert_exporter": "python",
   "pygments_lexer": "ipython3",
   "version": "3.12.7"
  }
 },
 "nbformat": 4,
 "nbformat_minor": 2
}
