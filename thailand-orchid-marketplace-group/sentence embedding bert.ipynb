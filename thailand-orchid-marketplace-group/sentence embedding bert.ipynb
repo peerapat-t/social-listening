{
 "cells": [
  {
   "cell_type": "code",
   "execution_count": 14,
   "id": "dee2a84a",
   "metadata": {},
   "outputs": [],
   "source": [
    "# !pip install duckdb\n",
    "import pandas as pd\n",
    "import numpy as np\n",
    "import duckdb"
   ]
  },
  {
   "cell_type": "code",
   "execution_count": 15,
   "id": "77aeac5a",
   "metadata": {},
   "outputs": [],
   "source": [
    "from sentence_transformers import SentenceTransformer\n",
    "from sklearn.decomposition import PCA"
   ]
  },
  {
   "cell_type": "markdown",
   "id": "58e1eedf",
   "metadata": {},
   "source": [
    "# Import data"
   ]
  },
  {
   "cell_type": "code",
   "execution_count": 16,
   "id": "f9d55bd8",
   "metadata": {},
   "outputs": [],
   "source": [
    "df = pd.read_excel('tagging.xlsx')"
   ]
  },
  {
   "cell_type": "code",
   "execution_count": 17,
   "id": "bc45598d",
   "metadata": {},
   "outputs": [],
   "source": [
    "df = df[['post_id','title_clearned']]"
   ]
  },
  {
   "cell_type": "code",
   "execution_count": 13,
   "id": "00f691df",
   "metadata": {},
   "outputs": [
    {
     "data": {
      "text/html": [
       "<div>\n",
       "<style scoped>\n",
       "    .dataframe tbody tr th:only-of-type {\n",
       "        vertical-align: middle;\n",
       "    }\n",
       "\n",
       "    .dataframe tbody tr th {\n",
       "        vertical-align: top;\n",
       "    }\n",
       "\n",
       "    .dataframe thead th {\n",
       "        text-align: right;\n",
       "    }\n",
       "</style>\n",
       "<table border=\"1\" class=\"dataframe\">\n",
       "  <thead>\n",
       "    <tr style=\"text-align: right;\">\n",
       "      <th></th>\n",
       "      <th>post_id</th>\n",
       "      <th>title_clearned</th>\n",
       "    </tr>\n",
       "  </thead>\n",
       "  <tbody>\n",
       "    <tr>\n",
       "      <th>0</th>\n",
       "      <td>UzpfSTEwMDA0ODU1NjMyMTk5MDpWSzoyNjA4NjUxMDYyNj...</td>\n",
       "      <td>เอื้องตาเหิน ไม้ป่าหายากดอกใหญ่ดอกสวย มัดละ 10...</td>\n",
       "    </tr>\n",
       "    <tr>\n",
       "      <th>1</th>\n",
       "      <td>UzpfSTEwMDA0ODU1NjMyMTk5MDpWSzoyNjA4MzAwMDYyNj...</td>\n",
       "      <td>ชุดรวม 100 บาท เอื้องลำต่อ+สายมรกต+สายน้ำเขียว...</td>\n",
       "    </tr>\n",
       "    <tr>\n",
       "      <th>2</th>\n",
       "      <td>UzpfSTEwMDA0ODU1NjMyMTk5MDpWSzoyNjA4Mjg2MDk5Mz...</td>\n",
       "      <td>สิง โต กลีบ หลอด/สิง โต พวงถุงทอง ราคา 150 บาท...</td>\n",
       "    </tr>\n",
       "    <tr>\n",
       "      <th>3</th>\n",
       "      <td>UzpfSTEwMDA0ODU1NjMyMTk5MDpWSzoyMzg1NzM5NzU4ND...</td>\n",
       "      <td>เอื้องตาเหิน ไม้ป่าหายากดอกใหญ่ดอกสวย มัดละ 10...</td>\n",
       "    </tr>\n",
       "    <tr>\n",
       "      <th>4</th>\n",
       "      <td>UzpfSTEwMDAwODExMDI5ODM4NDpWSzoyNjA3OTQxNzEyNz...</td>\n",
       "      <td>เอื้องกุหลาบเหลืองโคราช</td>\n",
       "    </tr>\n",
       "  </tbody>\n",
       "</table>\n",
       "</div>"
      ],
      "text/plain": [
       "                                             post_id  \\\n",
       "0  UzpfSTEwMDA0ODU1NjMyMTk5MDpWSzoyNjA4NjUxMDYyNj...   \n",
       "1  UzpfSTEwMDA0ODU1NjMyMTk5MDpWSzoyNjA4MzAwMDYyNj...   \n",
       "2  UzpfSTEwMDA0ODU1NjMyMTk5MDpWSzoyNjA4Mjg2MDk5Mz...   \n",
       "3  UzpfSTEwMDA0ODU1NjMyMTk5MDpWSzoyMzg1NzM5NzU4ND...   \n",
       "4  UzpfSTEwMDAwODExMDI5ODM4NDpWSzoyNjA3OTQxNzEyNz...   \n",
       "\n",
       "                                      title_clearned  \n",
       "0  เอื้องตาเหิน ไม้ป่าหายากดอกใหญ่ดอกสวย มัดละ 10...  \n",
       "1  ชุดรวม 100 บาท เอื้องลำต่อ+สายมรกต+สายน้ำเขียว...  \n",
       "2  สิง โต กลีบ หลอด/สิง โต พวงถุงทอง ราคา 150 บาท...  \n",
       "3  เอื้องตาเหิน ไม้ป่าหายากดอกใหญ่ดอกสวย มัดละ 10...  \n",
       "4                            เอื้องกุหลาบเหลืองโคราช  "
      ]
     },
     "execution_count": 13,
     "metadata": {},
     "output_type": "execute_result"
    }
   ],
   "source": [
    "df.head()"
   ]
  },
  {
   "cell_type": "markdown",
   "id": "b6ef48f0",
   "metadata": {},
   "source": [
    "# Embedding"
   ]
  },
  {
   "cell_type": "code",
   "execution_count": 18,
   "id": "01c46a7e",
   "metadata": {},
   "outputs": [],
   "source": [
    "model = SentenceTransformer('paraphrase-multilingual-MiniLM-L12-v2')"
   ]
  },
  {
   "cell_type": "code",
   "execution_count": null,
   "id": "c63e23ee",
   "metadata": {},
   "outputs": [
    {
     "data": {
      "application/vnd.jupyter.widget-view+json": {
       "model_id": "859e631ab39740feb2789a6a7da1ad55",
       "version_major": 2,
       "version_minor": 0
      },
      "text/plain": [
       "Batches:   0%|          | 0/29 [00:00<?, ?it/s]"
      ]
     },
     "metadata": {},
     "output_type": "display_data"
    }
   ],
   "source": [
    "titles = df['title_clearned'].tolist()"
   ]
  },
  {
   "cell_type": "code",
   "execution_count": null,
   "id": "64f4ed77",
   "metadata": {},
   "outputs": [],
   "source": [
    "embeddings = model.encode(titles, show_progress_bar=True)"
   ]
  },
  {
   "cell_type": "markdown",
   "id": "9a4e340b",
   "metadata": {},
   "source": [
    "# Convert to 2-dims"
   ]
  },
  {
   "cell_type": "code",
   "execution_count": null,
   "id": "3b3575bd",
   "metadata": {},
   "outputs": [],
   "source": [
    "pca = PCA(n_components=2)"
   ]
  },
  {
   "cell_type": "code",
   "execution_count": null,
   "id": "96a15b6c",
   "metadata": {},
   "outputs": [],
   "source": [
    "embeddings_2d = pca.fit_transform(embeddings)"
   ]
  },
  {
   "cell_type": "code",
   "execution_count": 22,
   "id": "a31fef0c",
   "metadata": {},
   "outputs": [],
   "source": [
    "df['dim1'] = embeddings_2d[:, 0]\n",
    "df['dim2'] = embeddings_2d[:, 1]"
   ]
  },
  {
   "cell_type": "code",
   "execution_count": 25,
   "id": "e646715a",
   "metadata": {},
   "outputs": [],
   "source": [
    "df = df[['post_id','dim1','dim2']]"
   ]
  },
  {
   "cell_type": "markdown",
   "id": "4f643e5f",
   "metadata": {},
   "source": [
    "# Save"
   ]
  },
  {
   "cell_type": "code",
   "execution_count": 26,
   "id": "74cdbdb4",
   "metadata": {},
   "outputs": [],
   "source": [
    "df.to_excel('embedding.xlsx', index=False)"
   ]
  }
 ],
 "metadata": {
  "kernelspec": {
   "display_name": "base",
   "language": "python",
   "name": "python3"
  },
  "language_info": {
   "codemirror_mode": {
    "name": "ipython",
    "version": 3
   },
   "file_extension": ".py",
   "mimetype": "text/x-python",
   "name": "python",
   "nbconvert_exporter": "python",
   "pygments_lexer": "ipython3",
   "version": "3.12.7"
  }
 },
 "nbformat": 4,
 "nbformat_minor": 5
}
